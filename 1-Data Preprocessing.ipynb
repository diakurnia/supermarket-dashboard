{
 "cells": [
  {
   "cell_type": "markdown",
   "id": "e061ee6e",
   "metadata": {},
   "source": [
    "### Dataset Explanation"
   ]
  },
  {
   "cell_type": "markdown",
   "id": "f87bd892",
   "metadata": {},
   "source": [
    "The growth of supermarkets in most populated cities are increasing and market competitions are also high. The dataset is one of the historical sales of supermarket company which has recorded in 3 different branches for 3 months data. Predictive data analytics methods are easy to apply with this dataset.\n",
    "\n",
    "Attribute information\n",
    "\n",
    "- Invoice id: Computer generated sales slip invoice identification number\n",
    "- Branch: Branch of supercenter (3 branches are available identified by A, B and C).\n",
    "- City: Location of supercenters\n",
    "- Customer type: Type of customers, recorded by Members for customers using member card and Normal for without member card.\n",
    "- Gender: Gender type of customer\n",
    "- Product line: General item categorization groups - Electronic accessories, Fashion accessories, Food and beverages, Health and beauty, Home and lifestyle, Sports and travel\n",
    "- Unit price: Price of each product in dolar\n",
    "- Quantity: Number of products purchased by customer\n",
    "- Tax: 5% tax fee for customer buying\n",
    "- Total: Total price including tax\n",
    "- Date: Date of purchase (Record available from January 2019 to March 2019)\n",
    "- Time: Purchase time (10am to 9pm)\n",
    "- Payment: Payment used by customer for purchase (3 methods are available – Cash, Credit card and Ewallet)\n",
    "- COGS: Cost of goods sold\n",
    "- Gross margin percentage: Gross margin percentage\n",
    "- Gross income: Gross income\n",
    "- Rating: Customer stratification rating on their overall shopping experience (On a scale of 1 to 10)\n",
    "\n"
   ]
  },
  {
   "cell_type": "markdown",
   "id": "a3a0d80d",
   "metadata": {},
   "source": [
    "### Import Library or Package"
   ]
  },
  {
   "cell_type": "code",
   "execution_count": 1,
   "id": "cd20481b",
   "metadata": {},
   "outputs": [],
   "source": [
    "import pandas as pd\n",
    "import matplotlib.pyplot as plt\n",
    "import numpy as np"
   ]
  },
  {
   "cell_type": "markdown",
   "id": "17d44651",
   "metadata": {},
   "source": [
    "### Load Data"
   ]
  },
  {
   "cell_type": "code",
   "execution_count": 2,
   "id": "5eb73065",
   "metadata": {},
   "outputs": [],
   "source": [
    "df = pd.read_csv('data/supermarket_sales.csv')"
   ]
  },
  {
   "cell_type": "code",
   "execution_count": 3,
   "id": "0a6cf177",
   "metadata": {},
   "outputs": [
    {
     "data": {
      "text/html": [
       "<div>\n",
       "<style scoped>\n",
       "    .dataframe tbody tr th:only-of-type {\n",
       "        vertical-align: middle;\n",
       "    }\n",
       "\n",
       "    .dataframe tbody tr th {\n",
       "        vertical-align: top;\n",
       "    }\n",
       "\n",
       "    .dataframe thead th {\n",
       "        text-align: right;\n",
       "    }\n",
       "</style>\n",
       "<table border=\"1\" class=\"dataframe\">\n",
       "  <thead>\n",
       "    <tr style=\"text-align: right;\">\n",
       "      <th></th>\n",
       "      <th>Invoice ID</th>\n",
       "      <th>Branch</th>\n",
       "      <th>City</th>\n",
       "      <th>Customer type</th>\n",
       "      <th>Gender</th>\n",
       "      <th>Product line</th>\n",
       "      <th>Unit price</th>\n",
       "      <th>Quantity</th>\n",
       "      <th>Tax 5%</th>\n",
       "      <th>Total</th>\n",
       "      <th>Date</th>\n",
       "      <th>Time</th>\n",
       "      <th>Payment</th>\n",
       "      <th>cogs</th>\n",
       "      <th>gross margin percentage</th>\n",
       "      <th>gross income</th>\n",
       "      <th>Rating</th>\n",
       "    </tr>\n",
       "  </thead>\n",
       "  <tbody>\n",
       "    <tr>\n",
       "      <th>224</th>\n",
       "      <td>213-72-6612</td>\n",
       "      <td>A</td>\n",
       "      <td>Yangon</td>\n",
       "      <td>Normal</td>\n",
       "      <td>Male</td>\n",
       "      <td>Food and beverages</td>\n",
       "      <td>43.25</td>\n",
       "      <td>2</td>\n",
       "      <td>4.3250</td>\n",
       "      <td>90.8250</td>\n",
       "      <td>3/20/2019</td>\n",
       "      <td>15:56</td>\n",
       "      <td>Cash</td>\n",
       "      <td>86.50</td>\n",
       "      <td>4.761905</td>\n",
       "      <td>4.3250</td>\n",
       "      <td>6.2</td>\n",
       "    </tr>\n",
       "    <tr>\n",
       "      <th>477</th>\n",
       "      <td>598-47-9715</td>\n",
       "      <td>C</td>\n",
       "      <td>Naypyitaw</td>\n",
       "      <td>Normal</td>\n",
       "      <td>Male</td>\n",
       "      <td>Electronic accessories</td>\n",
       "      <td>84.07</td>\n",
       "      <td>4</td>\n",
       "      <td>16.8140</td>\n",
       "      <td>353.0940</td>\n",
       "      <td>3/7/2019</td>\n",
       "      <td>16:54</td>\n",
       "      <td>Ewallet</td>\n",
       "      <td>336.28</td>\n",
       "      <td>4.761905</td>\n",
       "      <td>16.8140</td>\n",
       "      <td>4.4</td>\n",
       "    </tr>\n",
       "    <tr>\n",
       "      <th>612</th>\n",
       "      <td>789-23-8625</td>\n",
       "      <td>B</td>\n",
       "      <td>Mandalay</td>\n",
       "      <td>Member</td>\n",
       "      <td>Male</td>\n",
       "      <td>Fashion accessories</td>\n",
       "      <td>93.22</td>\n",
       "      <td>3</td>\n",
       "      <td>13.9830</td>\n",
       "      <td>293.6430</td>\n",
       "      <td>1/24/2019</td>\n",
       "      <td>11:45</td>\n",
       "      <td>Cash</td>\n",
       "      <td>279.66</td>\n",
       "      <td>4.761905</td>\n",
       "      <td>13.9830</td>\n",
       "      <td>7.2</td>\n",
       "    </tr>\n",
       "    <tr>\n",
       "      <th>517</th>\n",
       "      <td>521-18-7827</td>\n",
       "      <td>C</td>\n",
       "      <td>Naypyitaw</td>\n",
       "      <td>Member</td>\n",
       "      <td>Male</td>\n",
       "      <td>Home and lifestyle</td>\n",
       "      <td>39.39</td>\n",
       "      <td>5</td>\n",
       "      <td>9.8475</td>\n",
       "      <td>206.7975</td>\n",
       "      <td>1/22/2019</td>\n",
       "      <td>20:46</td>\n",
       "      <td>Credit card</td>\n",
       "      <td>196.95</td>\n",
       "      <td>4.761905</td>\n",
       "      <td>9.8475</td>\n",
       "      <td>8.7</td>\n",
       "    </tr>\n",
       "    <tr>\n",
       "      <th>743</th>\n",
       "      <td>546-80-2899</td>\n",
       "      <td>A</td>\n",
       "      <td>Yangon</td>\n",
       "      <td>Member</td>\n",
       "      <td>Male</td>\n",
       "      <td>Home and lifestyle</td>\n",
       "      <td>37.69</td>\n",
       "      <td>2</td>\n",
       "      <td>3.7690</td>\n",
       "      <td>79.1490</td>\n",
       "      <td>2/20/2019</td>\n",
       "      <td>15:29</td>\n",
       "      <td>Ewallet</td>\n",
       "      <td>75.38</td>\n",
       "      <td>4.761905</td>\n",
       "      <td>3.7690</td>\n",
       "      <td>9.5</td>\n",
       "    </tr>\n",
       "  </tbody>\n",
       "</table>\n",
       "</div>"
      ],
      "text/plain": [
       "      Invoice ID Branch       City Customer type Gender  \\\n",
       "224  213-72-6612      A     Yangon        Normal   Male   \n",
       "477  598-47-9715      C  Naypyitaw        Normal   Male   \n",
       "612  789-23-8625      B   Mandalay        Member   Male   \n",
       "517  521-18-7827      C  Naypyitaw        Member   Male   \n",
       "743  546-80-2899      A     Yangon        Member   Male   \n",
       "\n",
       "               Product line  Unit price  Quantity   Tax 5%     Total  \\\n",
       "224      Food and beverages       43.25         2   4.3250   90.8250   \n",
       "477  Electronic accessories       84.07         4  16.8140  353.0940   \n",
       "612     Fashion accessories       93.22         3  13.9830  293.6430   \n",
       "517      Home and lifestyle       39.39         5   9.8475  206.7975   \n",
       "743      Home and lifestyle       37.69         2   3.7690   79.1490   \n",
       "\n",
       "          Date   Time      Payment    cogs  gross margin percentage  \\\n",
       "224  3/20/2019  15:56         Cash   86.50                 4.761905   \n",
       "477   3/7/2019  16:54      Ewallet  336.28                 4.761905   \n",
       "612  1/24/2019  11:45         Cash  279.66                 4.761905   \n",
       "517  1/22/2019  20:46  Credit card  196.95                 4.761905   \n",
       "743  2/20/2019  15:29      Ewallet   75.38                 4.761905   \n",
       "\n",
       "     gross income  Rating  \n",
       "224        4.3250     6.2  \n",
       "477       16.8140     4.4  \n",
       "612       13.9830     7.2  \n",
       "517        9.8475     8.7  \n",
       "743        3.7690     9.5  "
      ]
     },
     "execution_count": 3,
     "metadata": {},
     "output_type": "execute_result"
    }
   ],
   "source": [
    "# check 5 sample of data\n",
    "df.sample(5)"
   ]
  },
  {
   "cell_type": "code",
   "execution_count": 4,
   "id": "a1d29ee5",
   "metadata": {},
   "outputs": [
    {
     "name": "stdout",
     "output_type": "stream",
     "text": [
      "<class 'pandas.core.frame.DataFrame'>\n",
      "RangeIndex: 1000 entries, 0 to 999\n",
      "Data columns (total 17 columns):\n",
      " #   Column                   Non-Null Count  Dtype  \n",
      "---  ------                   --------------  -----  \n",
      " 0   Invoice ID               1000 non-null   object \n",
      " 1   Branch                   1000 non-null   object \n",
      " 2   City                     1000 non-null   object \n",
      " 3   Customer type            1000 non-null   object \n",
      " 4   Gender                   1000 non-null   object \n",
      " 5   Product line             1000 non-null   object \n",
      " 6   Unit price               1000 non-null   float64\n",
      " 7   Quantity                 1000 non-null   int64  \n",
      " 8   Tax 5%                   1000 non-null   float64\n",
      " 9   Total                    1000 non-null   float64\n",
      " 10  Date                     1000 non-null   object \n",
      " 11  Time                     1000 non-null   object \n",
      " 12  Payment                  1000 non-null   object \n",
      " 13  cogs                     1000 non-null   float64\n",
      " 14  gross margin percentage  1000 non-null   float64\n",
      " 15  gross income             1000 non-null   float64\n",
      " 16  Rating                   1000 non-null   float64\n",
      "dtypes: float64(7), int64(1), object(9)\n",
      "memory usage: 132.9+ KB\n"
     ]
    }
   ],
   "source": [
    "df.info()"
   ]
  },
  {
   "cell_type": "markdown",
   "id": "2fb375bc",
   "metadata": {},
   "source": [
    "Dengan menggunakan info() diketahui bahwa tidak ada kolom yang memiliki missing value, sehingga tidak akan dilakukan proses terhadap missing value"
   ]
  },
  {
   "cell_type": "markdown",
   "id": "b7c973bd",
   "metadata": {},
   "source": [
    "### Handling Duplicated "
   ]
  },
  {
   "cell_type": "code",
   "execution_count": 5,
   "id": "7b8e2206",
   "metadata": {},
   "outputs": [
    {
     "data": {
      "text/plain": [
       "0"
      ]
     },
     "execution_count": 5,
     "metadata": {},
     "output_type": "execute_result"
    }
   ],
   "source": [
    "# check duplicated all columns\n",
    "df.duplicated().sum()"
   ]
  },
  {
   "cell_type": "markdown",
   "id": "9281b5d8",
   "metadata": {},
   "source": [
    "Pada kolom `Branch` dan `City` merepresentasikan dua hal yang sama, sehingga akan dilakukan drop pada kolom `Branch`"
   ]
  },
  {
   "cell_type": "code",
   "execution_count": 6,
   "id": "73a52e7a",
   "metadata": {},
   "outputs": [],
   "source": [
    "df.drop('Branch', axis=1, inplace=True)"
   ]
  },
  {
   "cell_type": "code",
   "execution_count": 7,
   "id": "8b3e89d5",
   "metadata": {},
   "outputs": [
    {
     "data": {
      "text/plain": [
       "True"
      ]
     },
     "execution_count": 7,
     "metadata": {},
     "output_type": "execute_result"
    }
   ],
   "source": [
    "# check is two columns have equal\n",
    "df[\"Tax 5%\"].equals(df[\"gross income\"])"
   ]
  },
  {
   "cell_type": "markdown",
   "id": "79add7e1",
   "metadata": {},
   "source": [
    "Karena kolom `Tax 5%` dan `gross income` memiliki nilai yang sama sehingga akan dilakukan drop pada kolom `Tax 5%` dan hanya kolom `gross income` yang akan digunakan."
   ]
  },
  {
   "cell_type": "code",
   "execution_count": 8,
   "id": "e77c9539",
   "metadata": {},
   "outputs": [],
   "source": [
    "df.drop('Tax 5%', axis=1, inplace=True)"
   ]
  },
  {
   "cell_type": "code",
   "execution_count": 9,
   "id": "bcd806d9",
   "metadata": {},
   "outputs": [
    {
     "name": "stdout",
     "output_type": "stream",
     "text": [
      "<class 'pandas.core.frame.DataFrame'>\n",
      "RangeIndex: 1000 entries, 0 to 999\n",
      "Data columns (total 15 columns):\n",
      " #   Column                   Non-Null Count  Dtype  \n",
      "---  ------                   --------------  -----  \n",
      " 0   Invoice ID               1000 non-null   object \n",
      " 1   City                     1000 non-null   object \n",
      " 2   Customer type            1000 non-null   object \n",
      " 3   Gender                   1000 non-null   object \n",
      " 4   Product line             1000 non-null   object \n",
      " 5   Unit price               1000 non-null   float64\n",
      " 6   Quantity                 1000 non-null   int64  \n",
      " 7   Total                    1000 non-null   float64\n",
      " 8   Date                     1000 non-null   object \n",
      " 9   Time                     1000 non-null   object \n",
      " 10  Payment                  1000 non-null   object \n",
      " 11  cogs                     1000 non-null   float64\n",
      " 12  gross margin percentage  1000 non-null   float64\n",
      " 13  gross income             1000 non-null   float64\n",
      " 14  Rating                   1000 non-null   float64\n",
      "dtypes: float64(6), int64(1), object(8)\n",
      "memory usage: 117.3+ KB\n"
     ]
    }
   ],
   "source": [
    "df.info()"
   ]
  },
  {
   "cell_type": "markdown",
   "id": "8cfb3bd0",
   "metadata": {},
   "source": [
    "### Handling Data Type"
   ]
  },
  {
   "cell_type": "markdown",
   "id": "83496692",
   "metadata": {},
   "source": [
    "Kolom `Date` dan kolom `Time` merepresentasikan waktu tapi data type nya masih berupa float, sehingga kolom tersebut akan di ubah data typenya menjadi DateTime"
   ]
  },
  {
   "cell_type": "code",
   "execution_count": 10,
   "id": "2c1d63b4",
   "metadata": {},
   "outputs": [],
   "source": [
    "df['Time'] = pd.to_datetime(df['Time'], format='%H:%M').dt.hour"
   ]
  },
  {
   "cell_type": "code",
   "execution_count": 11,
   "id": "0e2fe584",
   "metadata": {},
   "outputs": [],
   "source": [
    "df['Date'] = pd.to_datetime(df['Date'])"
   ]
  },
  {
   "cell_type": "code",
   "execution_count": 12,
   "id": "e78af520",
   "metadata": {},
   "outputs": [
    {
     "name": "stdout",
     "output_type": "stream",
     "text": [
      "<class 'pandas.core.frame.DataFrame'>\n",
      "RangeIndex: 1000 entries, 0 to 999\n",
      "Data columns (total 15 columns):\n",
      " #   Column                   Non-Null Count  Dtype         \n",
      "---  ------                   --------------  -----         \n",
      " 0   Invoice ID               1000 non-null   object        \n",
      " 1   City                     1000 non-null   object        \n",
      " 2   Customer type            1000 non-null   object        \n",
      " 3   Gender                   1000 non-null   object        \n",
      " 4   Product line             1000 non-null   object        \n",
      " 5   Unit price               1000 non-null   float64       \n",
      " 6   Quantity                 1000 non-null   int64         \n",
      " 7   Total                    1000 non-null   float64       \n",
      " 8   Date                     1000 non-null   datetime64[ns]\n",
      " 9   Time                     1000 non-null   int64         \n",
      " 10  Payment                  1000 non-null   object        \n",
      " 11  cogs                     1000 non-null   float64       \n",
      " 12  gross margin percentage  1000 non-null   float64       \n",
      " 13  gross income             1000 non-null   float64       \n",
      " 14  Rating                   1000 non-null   float64       \n",
      "dtypes: datetime64[ns](1), float64(6), int64(2), object(6)\n",
      "memory usage: 117.3+ KB\n"
     ]
    }
   ],
   "source": [
    "df.info()"
   ]
  },
  {
   "cell_type": "markdown",
   "id": "f577259f",
   "metadata": {},
   "source": [
    "### Rename Columns name"
   ]
  },
  {
   "cell_type": "code",
   "execution_count": 13,
   "id": "8fb21716",
   "metadata": {},
   "outputs": [],
   "source": [
    "df = df.rename(columns={'Customer type':'Customer Type',\n",
    "                        'Product line': 'Product Category',\n",
    "                        'Unit price':'Unit Price',\n",
    "                        'cogs':'COGS',\n",
    "                        'gross margin percentage':'GMP',\n",
    "                        'gross income':'Gross Income',\n",
    "                        'Time':'Hour'})"
   ]
  },
  {
   "cell_type": "code",
   "execution_count": 14,
   "id": "20a57a19",
   "metadata": {},
   "outputs": [
    {
     "name": "stdout",
     "output_type": "stream",
     "text": [
      "<class 'pandas.core.frame.DataFrame'>\n",
      "RangeIndex: 1000 entries, 0 to 999\n",
      "Data columns (total 15 columns):\n",
      " #   Column            Non-Null Count  Dtype         \n",
      "---  ------            --------------  -----         \n",
      " 0   Invoice ID        1000 non-null   object        \n",
      " 1   City              1000 non-null   object        \n",
      " 2   Customer Type     1000 non-null   object        \n",
      " 3   Gender            1000 non-null   object        \n",
      " 4   Product Category  1000 non-null   object        \n",
      " 5   Unit Price        1000 non-null   float64       \n",
      " 6   Quantity          1000 non-null   int64         \n",
      " 7   Total             1000 non-null   float64       \n",
      " 8   Date              1000 non-null   datetime64[ns]\n",
      " 9   Hour              1000 non-null   int64         \n",
      " 10  Payment           1000 non-null   object        \n",
      " 11  COGS              1000 non-null   float64       \n",
      " 12  GMP               1000 non-null   float64       \n",
      " 13  Gross Income      1000 non-null   float64       \n",
      " 14  Rating            1000 non-null   float64       \n",
      "dtypes: datetime64[ns](1), float64(6), int64(2), object(6)\n",
      "memory usage: 117.3+ KB\n"
     ]
    }
   ],
   "source": [
    "df.info()"
   ]
  },
  {
   "cell_type": "markdown",
   "id": "9309faa7",
   "metadata": {},
   "source": [
    "### Add Columns "
   ]
  },
  {
   "cell_type": "code",
   "execution_count": 15,
   "id": "bb1cc6a8",
   "metadata": {},
   "outputs": [],
   "source": [
    "# menambahkan kolom Time yang merupakan hasil dari pengkategorian kolom Hour"
   ]
  },
  {
   "cell_type": "code",
   "execution_count": 16,
   "id": "25c53066",
   "metadata": {},
   "outputs": [
    {
     "data": {
      "text/html": [
       "<div>\n",
       "<style scoped>\n",
       "    .dataframe tbody tr th:only-of-type {\n",
       "        vertical-align: middle;\n",
       "    }\n",
       "\n",
       "    .dataframe tbody tr th {\n",
       "        vertical-align: top;\n",
       "    }\n",
       "\n",
       "    .dataframe thead th {\n",
       "        text-align: right;\n",
       "    }\n",
       "</style>\n",
       "<table border=\"1\" class=\"dataframe\">\n",
       "  <thead>\n",
       "    <tr style=\"text-align: right;\">\n",
       "      <th></th>\n",
       "      <th>Unit Price</th>\n",
       "      <th>Quantity</th>\n",
       "      <th>Total</th>\n",
       "      <th>Hour</th>\n",
       "      <th>COGS</th>\n",
       "      <th>GMP</th>\n",
       "      <th>Gross Income</th>\n",
       "      <th>Rating</th>\n",
       "    </tr>\n",
       "  </thead>\n",
       "  <tbody>\n",
       "    <tr>\n",
       "      <th>count</th>\n",
       "      <td>1000.000000</td>\n",
       "      <td>1000.000000</td>\n",
       "      <td>1000.000000</td>\n",
       "      <td>1000.000000</td>\n",
       "      <td>1000.00000</td>\n",
       "      <td>1.000000e+03</td>\n",
       "      <td>1000.000000</td>\n",
       "      <td>1000.00000</td>\n",
       "    </tr>\n",
       "    <tr>\n",
       "      <th>mean</th>\n",
       "      <td>55.672130</td>\n",
       "      <td>5.510000</td>\n",
       "      <td>322.966749</td>\n",
       "      <td>14.910000</td>\n",
       "      <td>307.58738</td>\n",
       "      <td>4.761905e+00</td>\n",
       "      <td>15.379369</td>\n",
       "      <td>6.97270</td>\n",
       "    </tr>\n",
       "    <tr>\n",
       "      <th>std</th>\n",
       "      <td>26.494628</td>\n",
       "      <td>2.923431</td>\n",
       "      <td>245.885335</td>\n",
       "      <td>3.186857</td>\n",
       "      <td>234.17651</td>\n",
       "      <td>6.131498e-14</td>\n",
       "      <td>11.708825</td>\n",
       "      <td>1.71858</td>\n",
       "    </tr>\n",
       "    <tr>\n",
       "      <th>min</th>\n",
       "      <td>10.080000</td>\n",
       "      <td>1.000000</td>\n",
       "      <td>10.678500</td>\n",
       "      <td>10.000000</td>\n",
       "      <td>10.17000</td>\n",
       "      <td>4.761905e+00</td>\n",
       "      <td>0.508500</td>\n",
       "      <td>4.00000</td>\n",
       "    </tr>\n",
       "    <tr>\n",
       "      <th>25%</th>\n",
       "      <td>32.875000</td>\n",
       "      <td>3.000000</td>\n",
       "      <td>124.422375</td>\n",
       "      <td>12.000000</td>\n",
       "      <td>118.49750</td>\n",
       "      <td>4.761905e+00</td>\n",
       "      <td>5.924875</td>\n",
       "      <td>5.50000</td>\n",
       "    </tr>\n",
       "    <tr>\n",
       "      <th>50%</th>\n",
       "      <td>55.230000</td>\n",
       "      <td>5.000000</td>\n",
       "      <td>253.848000</td>\n",
       "      <td>15.000000</td>\n",
       "      <td>241.76000</td>\n",
       "      <td>4.761905e+00</td>\n",
       "      <td>12.088000</td>\n",
       "      <td>7.00000</td>\n",
       "    </tr>\n",
       "    <tr>\n",
       "      <th>75%</th>\n",
       "      <td>77.935000</td>\n",
       "      <td>8.000000</td>\n",
       "      <td>471.350250</td>\n",
       "      <td>18.000000</td>\n",
       "      <td>448.90500</td>\n",
       "      <td>4.761905e+00</td>\n",
       "      <td>22.445250</td>\n",
       "      <td>8.50000</td>\n",
       "    </tr>\n",
       "    <tr>\n",
       "      <th>max</th>\n",
       "      <td>99.960000</td>\n",
       "      <td>10.000000</td>\n",
       "      <td>1042.650000</td>\n",
       "      <td>20.000000</td>\n",
       "      <td>993.00000</td>\n",
       "      <td>4.761905e+00</td>\n",
       "      <td>49.650000</td>\n",
       "      <td>10.00000</td>\n",
       "    </tr>\n",
       "  </tbody>\n",
       "</table>\n",
       "</div>"
      ],
      "text/plain": [
       "        Unit Price     Quantity        Total         Hour        COGS  \\\n",
       "count  1000.000000  1000.000000  1000.000000  1000.000000  1000.00000   \n",
       "mean     55.672130     5.510000   322.966749    14.910000   307.58738   \n",
       "std      26.494628     2.923431   245.885335     3.186857   234.17651   \n",
       "min      10.080000     1.000000    10.678500    10.000000    10.17000   \n",
       "25%      32.875000     3.000000   124.422375    12.000000   118.49750   \n",
       "50%      55.230000     5.000000   253.848000    15.000000   241.76000   \n",
       "75%      77.935000     8.000000   471.350250    18.000000   448.90500   \n",
       "max      99.960000    10.000000  1042.650000    20.000000   993.00000   \n",
       "\n",
       "                GMP  Gross Income      Rating  \n",
       "count  1.000000e+03   1000.000000  1000.00000  \n",
       "mean   4.761905e+00     15.379369     6.97270  \n",
       "std    6.131498e-14     11.708825     1.71858  \n",
       "min    4.761905e+00      0.508500     4.00000  \n",
       "25%    4.761905e+00      5.924875     5.50000  \n",
       "50%    4.761905e+00     12.088000     7.00000  \n",
       "75%    4.761905e+00     22.445250     8.50000  \n",
       "max    4.761905e+00     49.650000    10.00000  "
      ]
     },
     "execution_count": 16,
     "metadata": {},
     "output_type": "execute_result"
    }
   ],
   "source": [
    "df.describe()"
   ]
  },
  {
   "cell_type": "code",
   "execution_count": 18,
   "id": "cdcff72f",
   "metadata": {},
   "outputs": [],
   "source": [
    "rating_range = [] #list kosong\n",
    "\n",
    "for i, k in df.iterrows():\n",
    "    if k['Rating'] <= 3: #true and true\n",
    "        rating_range.append('1 ~ 3')\n",
    "    elif k['Rating'] <= 5: #true and true\n",
    "        rating_range.append('3 ~ 5')\n",
    "    elif k['Rating'] <= 7: #true and true\n",
    "        rating_range.append('5 ~ 7')\n",
    "    elif k['Rating'] <= 9: #true and true\n",
    "        rating_range.append('7 ~ 9')\n",
    "    elif k['Rating'] <= 10: #true and true\n",
    "        rating_range.append('9 ~ 10')\n",
    "df['Rating Range'] = rating_range"
   ]
  },
  {
   "cell_type": "code",
   "execution_count": 19,
   "id": "7683a10c",
   "metadata": {},
   "outputs": [],
   "source": [
    "df['Rating Range'] = rating_range"
   ]
  },
  {
   "cell_type": "code",
   "execution_count": 21,
   "id": "ac6575c0",
   "metadata": {},
   "outputs": [
    {
     "data": {
      "text/html": [
       "<div>\n",
       "<style scoped>\n",
       "    .dataframe tbody tr th:only-of-type {\n",
       "        vertical-align: middle;\n",
       "    }\n",
       "\n",
       "    .dataframe tbody tr th {\n",
       "        vertical-align: top;\n",
       "    }\n",
       "\n",
       "    .dataframe thead th {\n",
       "        text-align: right;\n",
       "    }\n",
       "</style>\n",
       "<table border=\"1\" class=\"dataframe\">\n",
       "  <thead>\n",
       "    <tr style=\"text-align: right;\">\n",
       "      <th></th>\n",
       "      <th>Invoice ID</th>\n",
       "      <th>City</th>\n",
       "      <th>Customer Type</th>\n",
       "      <th>Gender</th>\n",
       "      <th>Product Category</th>\n",
       "      <th>Unit Price</th>\n",
       "      <th>Quantity</th>\n",
       "      <th>Total</th>\n",
       "      <th>Date</th>\n",
       "      <th>Hour</th>\n",
       "      <th>Payment</th>\n",
       "      <th>COGS</th>\n",
       "      <th>GMP</th>\n",
       "      <th>Gross Income</th>\n",
       "      <th>Rating</th>\n",
       "      <th>Rating Range</th>\n",
       "    </tr>\n",
       "  </thead>\n",
       "  <tbody>\n",
       "    <tr>\n",
       "      <th>0</th>\n",
       "      <td>750-67-8428</td>\n",
       "      <td>Yangon</td>\n",
       "      <td>Member</td>\n",
       "      <td>Female</td>\n",
       "      <td>Health and beauty</td>\n",
       "      <td>74.69</td>\n",
       "      <td>7</td>\n",
       "      <td>548.9715</td>\n",
       "      <td>2019-01-05</td>\n",
       "      <td>13</td>\n",
       "      <td>Ewallet</td>\n",
       "      <td>522.83</td>\n",
       "      <td>4.761905</td>\n",
       "      <td>26.1415</td>\n",
       "      <td>9.1</td>\n",
       "      <td>9 ~ 10</td>\n",
       "    </tr>\n",
       "    <tr>\n",
       "      <th>1</th>\n",
       "      <td>226-31-3081</td>\n",
       "      <td>Naypyitaw</td>\n",
       "      <td>Normal</td>\n",
       "      <td>Female</td>\n",
       "      <td>Electronic accessories</td>\n",
       "      <td>15.28</td>\n",
       "      <td>5</td>\n",
       "      <td>80.2200</td>\n",
       "      <td>2019-03-08</td>\n",
       "      <td>10</td>\n",
       "      <td>Cash</td>\n",
       "      <td>76.40</td>\n",
       "      <td>4.761905</td>\n",
       "      <td>3.8200</td>\n",
       "      <td>9.6</td>\n",
       "      <td>9 ~ 10</td>\n",
       "    </tr>\n",
       "    <tr>\n",
       "      <th>2</th>\n",
       "      <td>631-41-3108</td>\n",
       "      <td>Yangon</td>\n",
       "      <td>Normal</td>\n",
       "      <td>Male</td>\n",
       "      <td>Home and lifestyle</td>\n",
       "      <td>46.33</td>\n",
       "      <td>7</td>\n",
       "      <td>340.5255</td>\n",
       "      <td>2019-03-03</td>\n",
       "      <td>13</td>\n",
       "      <td>Credit card</td>\n",
       "      <td>324.31</td>\n",
       "      <td>4.761905</td>\n",
       "      <td>16.2155</td>\n",
       "      <td>7.4</td>\n",
       "      <td>7 ~ 9</td>\n",
       "    </tr>\n",
       "  </tbody>\n",
       "</table>\n",
       "</div>"
      ],
      "text/plain": [
       "    Invoice ID       City Customer Type  Gender        Product Category  \\\n",
       "0  750-67-8428     Yangon        Member  Female       Health and beauty   \n",
       "1  226-31-3081  Naypyitaw        Normal  Female  Electronic accessories   \n",
       "2  631-41-3108     Yangon        Normal    Male      Home and lifestyle   \n",
       "\n",
       "   Unit Price  Quantity     Total       Date  Hour      Payment    COGS  \\\n",
       "0       74.69         7  548.9715 2019-01-05    13      Ewallet  522.83   \n",
       "1       15.28         5   80.2200 2019-03-08    10         Cash   76.40   \n",
       "2       46.33         7  340.5255 2019-03-03    13  Credit card  324.31   \n",
       "\n",
       "        GMP  Gross Income  Rating Rating Range  \n",
       "0  4.761905       26.1415     9.1       9 ~ 10  \n",
       "1  4.761905        3.8200     9.6       9 ~ 10  \n",
       "2  4.761905       16.2155     7.4        7 ~ 9  "
      ]
     },
     "execution_count": 21,
     "metadata": {},
     "output_type": "execute_result"
    }
   ],
   "source": [
    "df.head(3)"
   ]
  },
  {
   "cell_type": "code",
   "execution_count": 22,
   "id": "7c8a7338",
   "metadata": {},
   "outputs": [],
   "source": [
    "# menambahkan kolom Rating Type berdasarkan kategori yang merepresentasikan kolom rating\n",
    "buying_range = [] #list kosong\n",
    "\n",
    "for i, k in df.iterrows():\n",
    "    if k['Hour'] <= 11: #true and true\n",
    "        buying_range.append('9 ~ 11')\n",
    "    elif k['Hour'] <= 13: #true and true\n",
    "        buying_range.append('11 ~ 13')\n",
    "    elif k['Hour'] <= 15: #true and true\n",
    "        buying_range.append('13 ~ 15')\n",
    "    elif k['Hour'] <= 17: #true and true\n",
    "        buying_range.append('15 ~ 17')\n",
    "    elif k['Hour'] <= 19: #true and true\n",
    "        buying_range.append('17 ~ 19')\n",
    "    elif k['Hour'] <= 21: #true and true\n",
    "        buying_range.append('19 ~ 21')\n",
    "df['Hour Range'] = buying_range"
   ]
  },
  {
   "cell_type": "code",
   "execution_count": 23,
   "id": "9007e96f",
   "metadata": {},
   "outputs": [
    {
     "data": {
      "text/html": [
       "<div>\n",
       "<style scoped>\n",
       "    .dataframe tbody tr th:only-of-type {\n",
       "        vertical-align: middle;\n",
       "    }\n",
       "\n",
       "    .dataframe tbody tr th {\n",
       "        vertical-align: top;\n",
       "    }\n",
       "\n",
       "    .dataframe thead th {\n",
       "        text-align: right;\n",
       "    }\n",
       "</style>\n",
       "<table border=\"1\" class=\"dataframe\">\n",
       "  <thead>\n",
       "    <tr style=\"text-align: right;\">\n",
       "      <th></th>\n",
       "      <th>Invoice ID</th>\n",
       "      <th>City</th>\n",
       "      <th>Customer Type</th>\n",
       "      <th>Gender</th>\n",
       "      <th>Product Category</th>\n",
       "      <th>Unit Price</th>\n",
       "      <th>Quantity</th>\n",
       "      <th>Total</th>\n",
       "      <th>Date</th>\n",
       "      <th>Hour</th>\n",
       "      <th>Payment</th>\n",
       "      <th>COGS</th>\n",
       "      <th>GMP</th>\n",
       "      <th>Gross Income</th>\n",
       "      <th>Rating</th>\n",
       "      <th>Rating Range</th>\n",
       "      <th>Hour Range</th>\n",
       "    </tr>\n",
       "  </thead>\n",
       "  <tbody>\n",
       "    <tr>\n",
       "      <th>0</th>\n",
       "      <td>750-67-8428</td>\n",
       "      <td>Yangon</td>\n",
       "      <td>Member</td>\n",
       "      <td>Female</td>\n",
       "      <td>Health and beauty</td>\n",
       "      <td>74.69</td>\n",
       "      <td>7</td>\n",
       "      <td>548.9715</td>\n",
       "      <td>2019-01-05</td>\n",
       "      <td>13</td>\n",
       "      <td>Ewallet</td>\n",
       "      <td>522.83</td>\n",
       "      <td>4.761905</td>\n",
       "      <td>26.1415</td>\n",
       "      <td>9.1</td>\n",
       "      <td>9 ~ 10</td>\n",
       "      <td>11 ~ 13</td>\n",
       "    </tr>\n",
       "    <tr>\n",
       "      <th>1</th>\n",
       "      <td>226-31-3081</td>\n",
       "      <td>Naypyitaw</td>\n",
       "      <td>Normal</td>\n",
       "      <td>Female</td>\n",
       "      <td>Electronic accessories</td>\n",
       "      <td>15.28</td>\n",
       "      <td>5</td>\n",
       "      <td>80.2200</td>\n",
       "      <td>2019-03-08</td>\n",
       "      <td>10</td>\n",
       "      <td>Cash</td>\n",
       "      <td>76.40</td>\n",
       "      <td>4.761905</td>\n",
       "      <td>3.8200</td>\n",
       "      <td>9.6</td>\n",
       "      <td>9 ~ 10</td>\n",
       "      <td>9 ~ 11</td>\n",
       "    </tr>\n",
       "    <tr>\n",
       "      <th>2</th>\n",
       "      <td>631-41-3108</td>\n",
       "      <td>Yangon</td>\n",
       "      <td>Normal</td>\n",
       "      <td>Male</td>\n",
       "      <td>Home and lifestyle</td>\n",
       "      <td>46.33</td>\n",
       "      <td>7</td>\n",
       "      <td>340.5255</td>\n",
       "      <td>2019-03-03</td>\n",
       "      <td>13</td>\n",
       "      <td>Credit card</td>\n",
       "      <td>324.31</td>\n",
       "      <td>4.761905</td>\n",
       "      <td>16.2155</td>\n",
       "      <td>7.4</td>\n",
       "      <td>7 ~ 9</td>\n",
       "      <td>11 ~ 13</td>\n",
       "    </tr>\n",
       "    <tr>\n",
       "      <th>3</th>\n",
       "      <td>123-19-1176</td>\n",
       "      <td>Yangon</td>\n",
       "      <td>Member</td>\n",
       "      <td>Male</td>\n",
       "      <td>Health and beauty</td>\n",
       "      <td>58.22</td>\n",
       "      <td>8</td>\n",
       "      <td>489.0480</td>\n",
       "      <td>2019-01-27</td>\n",
       "      <td>20</td>\n",
       "      <td>Ewallet</td>\n",
       "      <td>465.76</td>\n",
       "      <td>4.761905</td>\n",
       "      <td>23.2880</td>\n",
       "      <td>8.4</td>\n",
       "      <td>7 ~ 9</td>\n",
       "      <td>19 ~ 21</td>\n",
       "    </tr>\n",
       "    <tr>\n",
       "      <th>4</th>\n",
       "      <td>373-73-7910</td>\n",
       "      <td>Yangon</td>\n",
       "      <td>Normal</td>\n",
       "      <td>Male</td>\n",
       "      <td>Sports and travel</td>\n",
       "      <td>86.31</td>\n",
       "      <td>7</td>\n",
       "      <td>634.3785</td>\n",
       "      <td>2019-02-08</td>\n",
       "      <td>10</td>\n",
       "      <td>Ewallet</td>\n",
       "      <td>604.17</td>\n",
       "      <td>4.761905</td>\n",
       "      <td>30.2085</td>\n",
       "      <td>5.3</td>\n",
       "      <td>5 ~ 7</td>\n",
       "      <td>9 ~ 11</td>\n",
       "    </tr>\n",
       "  </tbody>\n",
       "</table>\n",
       "</div>"
      ],
      "text/plain": [
       "    Invoice ID       City Customer Type  Gender        Product Category  \\\n",
       "0  750-67-8428     Yangon        Member  Female       Health and beauty   \n",
       "1  226-31-3081  Naypyitaw        Normal  Female  Electronic accessories   \n",
       "2  631-41-3108     Yangon        Normal    Male      Home and lifestyle   \n",
       "3  123-19-1176     Yangon        Member    Male       Health and beauty   \n",
       "4  373-73-7910     Yangon        Normal    Male       Sports and travel   \n",
       "\n",
       "   Unit Price  Quantity     Total       Date  Hour      Payment    COGS  \\\n",
       "0       74.69         7  548.9715 2019-01-05    13      Ewallet  522.83   \n",
       "1       15.28         5   80.2200 2019-03-08    10         Cash   76.40   \n",
       "2       46.33         7  340.5255 2019-03-03    13  Credit card  324.31   \n",
       "3       58.22         8  489.0480 2019-01-27    20      Ewallet  465.76   \n",
       "4       86.31         7  634.3785 2019-02-08    10      Ewallet  604.17   \n",
       "\n",
       "        GMP  Gross Income  Rating Rating Range Hour Range  \n",
       "0  4.761905       26.1415     9.1       9 ~ 10    11 ~ 13  \n",
       "1  4.761905        3.8200     9.6       9 ~ 10     9 ~ 11  \n",
       "2  4.761905       16.2155     7.4        7 ~ 9    11 ~ 13  \n",
       "3  4.761905       23.2880     8.4        7 ~ 9    19 ~ 21  \n",
       "4  4.761905       30.2085     5.3        5 ~ 7     9 ~ 11  "
      ]
     },
     "execution_count": 23,
     "metadata": {},
     "output_type": "execute_result"
    }
   ],
   "source": [
    "df.head()"
   ]
  },
  {
   "cell_type": "markdown",
   "id": "90318c9b",
   "metadata": {},
   "source": [
    "### Export Clean Data to CSV"
   ]
  },
  {
   "cell_type": "code",
   "execution_count": 24,
   "id": "8550e1f6",
   "metadata": {},
   "outputs": [],
   "source": [
    "save_data = df.copy()"
   ]
  },
  {
   "cell_type": "code",
   "execution_count": 25,
   "id": "c6625c89",
   "metadata": {},
   "outputs": [],
   "source": [
    "save_data.to_csv('supermarket_clean.csv', index=False)"
   ]
  }
 ],
 "metadata": {
  "kernelspec": {
   "display_name": "Python 3 (ipykernel)",
   "language": "python",
   "name": "python3"
  },
  "language_info": {
   "codemirror_mode": {
    "name": "ipython",
    "version": 3
   },
   "file_extension": ".py",
   "mimetype": "text/x-python",
   "name": "python",
   "nbconvert_exporter": "python",
   "pygments_lexer": "ipython3",
   "version": "3.9.5"
  }
 },
 "nbformat": 4,
 "nbformat_minor": 5
}
