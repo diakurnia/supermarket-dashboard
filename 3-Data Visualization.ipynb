{
 "cells": [
  {
   "cell_type": "code",
   "execution_count": 224,
   "id": "098e57d9",
   "metadata": {},
   "outputs": [],
   "source": [
    "import numpy as np\n",
    "import pandas as pd\n",
    "import matplotlib\n",
    "import matplotlib.pyplot as plt\n",
    "import matplotlib.ticker as mtick\n",
    "import seaborn as sns\n",
    "import squarify\n",
    "import plotly\n",
    "from plotly import graph_objs as go\n",
    "pd.set_option('display.max_columns', 400)\n",
    "pd.set_option('display.max_rows', 20100)\n",
    "\n",
    "%matplotlib inline"
   ]
  },
  {
   "cell_type": "code",
   "execution_count": 203,
   "id": "724fba64",
   "metadata": {},
   "outputs": [],
   "source": [
    "df = pd.read_csv('data/supermarket_clean.csv')"
   ]
  },
  {
   "cell_type": "code",
   "execution_count": 205,
   "id": "1fdf6407",
   "metadata": {},
   "outputs": [
    {
     "data": {
      "text/html": [
       "<div>\n",
       "<style scoped>\n",
       "    .dataframe tbody tr th:only-of-type {\n",
       "        vertical-align: middle;\n",
       "    }\n",
       "\n",
       "    .dataframe tbody tr th {\n",
       "        vertical-align: top;\n",
       "    }\n",
       "\n",
       "    .dataframe thead th {\n",
       "        text-align: right;\n",
       "    }\n",
       "</style>\n",
       "<table border=\"1\" class=\"dataframe\">\n",
       "  <thead>\n",
       "    <tr style=\"text-align: right;\">\n",
       "      <th></th>\n",
       "      <th>Invoice ID</th>\n",
       "      <th>City</th>\n",
       "      <th>Customer Type</th>\n",
       "      <th>Gender</th>\n",
       "      <th>Product Category</th>\n",
       "      <th>Unit Price</th>\n",
       "      <th>Quantity</th>\n",
       "      <th>Total</th>\n",
       "      <th>Date</th>\n",
       "      <th>Hour</th>\n",
       "      <th>Payment</th>\n",
       "      <th>COGS</th>\n",
       "      <th>GMP</th>\n",
       "      <th>Gross Income</th>\n",
       "      <th>Rating</th>\n",
       "      <th>Rating Range</th>\n",
       "      <th>Hour Range</th>\n",
       "    </tr>\n",
       "  </thead>\n",
       "  <tbody>\n",
       "    <tr>\n",
       "      <th>0</th>\n",
       "      <td>750-67-8428</td>\n",
       "      <td>Yangon</td>\n",
       "      <td>Member</td>\n",
       "      <td>Female</td>\n",
       "      <td>Health and beauty</td>\n",
       "      <td>74.69</td>\n",
       "      <td>7</td>\n",
       "      <td>548.9715</td>\n",
       "      <td>2019-01-05</td>\n",
       "      <td>13</td>\n",
       "      <td>Ewallet</td>\n",
       "      <td>522.83</td>\n",
       "      <td>4.761905</td>\n",
       "      <td>26.1415</td>\n",
       "      <td>9.1</td>\n",
       "      <td>9 ~ 10</td>\n",
       "      <td>11 ~ 13</td>\n",
       "    </tr>\n",
       "    <tr>\n",
       "      <th>1</th>\n",
       "      <td>226-31-3081</td>\n",
       "      <td>Naypyitaw</td>\n",
       "      <td>Normal</td>\n",
       "      <td>Female</td>\n",
       "      <td>Electronic accessories</td>\n",
       "      <td>15.28</td>\n",
       "      <td>5</td>\n",
       "      <td>80.2200</td>\n",
       "      <td>2019-03-08</td>\n",
       "      <td>10</td>\n",
       "      <td>Cash</td>\n",
       "      <td>76.40</td>\n",
       "      <td>4.761905</td>\n",
       "      <td>3.8200</td>\n",
       "      <td>9.6</td>\n",
       "      <td>9 ~ 10</td>\n",
       "      <td>9 ~ 11</td>\n",
       "    </tr>\n",
       "    <tr>\n",
       "      <th>2</th>\n",
       "      <td>631-41-3108</td>\n",
       "      <td>Yangon</td>\n",
       "      <td>Normal</td>\n",
       "      <td>Male</td>\n",
       "      <td>Home and lifestyle</td>\n",
       "      <td>46.33</td>\n",
       "      <td>7</td>\n",
       "      <td>340.5255</td>\n",
       "      <td>2019-03-03</td>\n",
       "      <td>13</td>\n",
       "      <td>Credit card</td>\n",
       "      <td>324.31</td>\n",
       "      <td>4.761905</td>\n",
       "      <td>16.2155</td>\n",
       "      <td>7.4</td>\n",
       "      <td>7 ~ 9</td>\n",
       "      <td>11 ~ 13</td>\n",
       "    </tr>\n",
       "  </tbody>\n",
       "</table>\n",
       "</div>"
      ],
      "text/plain": [
       "    Invoice ID       City Customer Type  Gender        Product Category  \\\n",
       "0  750-67-8428     Yangon        Member  Female       Health and beauty   \n",
       "1  226-31-3081  Naypyitaw        Normal  Female  Electronic accessories   \n",
       "2  631-41-3108     Yangon        Normal    Male      Home and lifestyle   \n",
       "\n",
       "   Unit Price  Quantity     Total        Date  Hour      Payment    COGS  \\\n",
       "0       74.69         7  548.9715  2019-01-05    13      Ewallet  522.83   \n",
       "1       15.28         5   80.2200  2019-03-08    10         Cash   76.40   \n",
       "2       46.33         7  340.5255  2019-03-03    13  Credit card  324.31   \n",
       "\n",
       "        GMP  Gross Income  Rating Rating Range Hour Range  \n",
       "0  4.761905       26.1415     9.1       9 ~ 10    11 ~ 13  \n",
       "1  4.761905        3.8200     9.6       9 ~ 10     9 ~ 11  \n",
       "2  4.761905       16.2155     7.4        7 ~ 9    11 ~ 13  "
      ]
     },
     "execution_count": 205,
     "metadata": {},
     "output_type": "execute_result"
    }
   ],
   "source": [
    "df.head(3)"
   ]
  },
  {
   "cell_type": "code",
   "execution_count": 248,
   "id": "7dc3108a",
   "metadata": {},
   "outputs": [
    {
     "data": {
      "text/html": [
       "<div>\n",
       "<style scoped>\n",
       "    .dataframe tbody tr th:only-of-type {\n",
       "        vertical-align: middle;\n",
       "    }\n",
       "\n",
       "    .dataframe tbody tr th {\n",
       "        vertical-align: top;\n",
       "    }\n",
       "\n",
       "    .dataframe thead th {\n",
       "        text-align: right;\n",
       "    }\n",
       "</style>\n",
       "<table border=\"1\" class=\"dataframe\">\n",
       "  <thead>\n",
       "    <tr style=\"text-align: right;\">\n",
       "      <th></th>\n",
       "      <th>Unit Price</th>\n",
       "      <th>Quantity</th>\n",
       "      <th>Total</th>\n",
       "      <th>Hour</th>\n",
       "      <th>COGS</th>\n",
       "      <th>GMP</th>\n",
       "      <th>Gross Income</th>\n",
       "      <th>Rating</th>\n",
       "    </tr>\n",
       "  </thead>\n",
       "  <tbody>\n",
       "    <tr>\n",
       "      <th>count</th>\n",
       "      <td>1000.000000</td>\n",
       "      <td>1000.000000</td>\n",
       "      <td>1000.000000</td>\n",
       "      <td>1000.000000</td>\n",
       "      <td>1000.00000</td>\n",
       "      <td>1.000000e+03</td>\n",
       "      <td>1000.000000</td>\n",
       "      <td>1000.00000</td>\n",
       "    </tr>\n",
       "    <tr>\n",
       "      <th>mean</th>\n",
       "      <td>55.672130</td>\n",
       "      <td>5.510000</td>\n",
       "      <td>322.966749</td>\n",
       "      <td>14.910000</td>\n",
       "      <td>307.58738</td>\n",
       "      <td>4.761905e+00</td>\n",
       "      <td>15.379369</td>\n",
       "      <td>6.97270</td>\n",
       "    </tr>\n",
       "    <tr>\n",
       "      <th>std</th>\n",
       "      <td>26.494628</td>\n",
       "      <td>2.923431</td>\n",
       "      <td>245.885335</td>\n",
       "      <td>3.186857</td>\n",
       "      <td>234.17651</td>\n",
       "      <td>6.131498e-14</td>\n",
       "      <td>11.708825</td>\n",
       "      <td>1.71858</td>\n",
       "    </tr>\n",
       "    <tr>\n",
       "      <th>min</th>\n",
       "      <td>10.080000</td>\n",
       "      <td>1.000000</td>\n",
       "      <td>10.678500</td>\n",
       "      <td>10.000000</td>\n",
       "      <td>10.17000</td>\n",
       "      <td>4.761905e+00</td>\n",
       "      <td>0.508500</td>\n",
       "      <td>4.00000</td>\n",
       "    </tr>\n",
       "    <tr>\n",
       "      <th>25%</th>\n",
       "      <td>32.875000</td>\n",
       "      <td>3.000000</td>\n",
       "      <td>124.422375</td>\n",
       "      <td>12.000000</td>\n",
       "      <td>118.49750</td>\n",
       "      <td>4.761905e+00</td>\n",
       "      <td>5.924875</td>\n",
       "      <td>5.50000</td>\n",
       "    </tr>\n",
       "    <tr>\n",
       "      <th>50%</th>\n",
       "      <td>55.230000</td>\n",
       "      <td>5.000000</td>\n",
       "      <td>253.848000</td>\n",
       "      <td>15.000000</td>\n",
       "      <td>241.76000</td>\n",
       "      <td>4.761905e+00</td>\n",
       "      <td>12.088000</td>\n",
       "      <td>7.00000</td>\n",
       "    </tr>\n",
       "    <tr>\n",
       "      <th>75%</th>\n",
       "      <td>77.935000</td>\n",
       "      <td>8.000000</td>\n",
       "      <td>471.350250</td>\n",
       "      <td>18.000000</td>\n",
       "      <td>448.90500</td>\n",
       "      <td>4.761905e+00</td>\n",
       "      <td>22.445250</td>\n",
       "      <td>8.50000</td>\n",
       "    </tr>\n",
       "    <tr>\n",
       "      <th>max</th>\n",
       "      <td>99.960000</td>\n",
       "      <td>10.000000</td>\n",
       "      <td>1042.650000</td>\n",
       "      <td>20.000000</td>\n",
       "      <td>993.00000</td>\n",
       "      <td>4.761905e+00</td>\n",
       "      <td>49.650000</td>\n",
       "      <td>10.00000</td>\n",
       "    </tr>\n",
       "  </tbody>\n",
       "</table>\n",
       "</div>"
      ],
      "text/plain": [
       "        Unit Price     Quantity        Total         Hour        COGS  \\\n",
       "count  1000.000000  1000.000000  1000.000000  1000.000000  1000.00000   \n",
       "mean     55.672130     5.510000   322.966749    14.910000   307.58738   \n",
       "std      26.494628     2.923431   245.885335     3.186857   234.17651   \n",
       "min      10.080000     1.000000    10.678500    10.000000    10.17000   \n",
       "25%      32.875000     3.000000   124.422375    12.000000   118.49750   \n",
       "50%      55.230000     5.000000   253.848000    15.000000   241.76000   \n",
       "75%      77.935000     8.000000   471.350250    18.000000   448.90500   \n",
       "max      99.960000    10.000000  1042.650000    20.000000   993.00000   \n",
       "\n",
       "                GMP  Gross Income      Rating  \n",
       "count  1.000000e+03   1000.000000  1000.00000  \n",
       "mean   4.761905e+00     15.379369     6.97270  \n",
       "std    6.131498e-14     11.708825     1.71858  \n",
       "min    4.761905e+00      0.508500     4.00000  \n",
       "25%    4.761905e+00      5.924875     5.50000  \n",
       "50%    4.761905e+00     12.088000     7.00000  \n",
       "75%    4.761905e+00     22.445250     8.50000  \n",
       "max    4.761905e+00     49.650000    10.00000  "
      ]
     },
     "execution_count": 248,
     "metadata": {},
     "output_type": "execute_result"
    }
   ],
   "source": [
    "df.describe()"
   ]
  },
  {
   "cell_type": "markdown",
   "id": "39b65e7b",
   "metadata": {},
   "source": [
    "### berapa rata-rata total pembelian per-invoice dalam sehari baik secara keseluruhan maupun berdasarkan gender ?"
   ]
  },
  {
   "cell_type": "code",
   "execution_count": 211,
   "id": "d8f5eb8d",
   "metadata": {},
   "outputs": [],
   "source": [
    "df_average_gender = df.groupby(['Date','Gender'])['Total'].mean().unstack().reset_index()"
   ]
  },
  {
   "cell_type": "code",
   "execution_count": 232,
   "id": "78fd4b7e",
   "metadata": {},
   "outputs": [
    {
     "data": {
      "application/vnd.plotly.v1+json": {
       "config": {
        "plotlyServerURL": "https://plot.ly"
       },
       "data": [
        {
         "marker": {
          "color": [
           "green",
           "green",
           "green",
           "green",
           "green",
           "red",
           "red",
           "green",
           "green",
           "green",
           "green",
           "green",
           "red",
           "red",
           "green",
           "green",
           "green",
           "green",
           "green",
           "red",
           "red",
           "green",
           "green",
           "green",
           "green",
           "green",
           "red",
           "red",
           "green",
           "green",
           "green",
           "green",
           "green",
           "red",
           "red",
           "green",
           "green",
           "green",
           "green",
           "green",
           "red",
           "red",
           "green",
           "green",
           "green",
           "green",
           "green",
           "red",
           "red",
           "green",
           "green",
           "green",
           "green",
           "green",
           "red",
           "red",
           "green",
           "green",
           "green",
           "green",
           "green",
           "red",
           "red",
           "green",
           "green",
           "green",
           "green",
           "green",
           "red",
           "red",
           "green",
           "green",
           "green",
           "green",
           "green",
           "red",
           "red",
           "green",
           "green",
           "green",
           "green",
           "green",
           "red",
           "red",
           "green",
           "green",
           "green",
           "green",
           "green",
           "red",
           "red",
           "green",
           "green",
           "green",
           "green",
           "green",
           "red",
           "red",
           "green",
           "green",
           "green",
           "green",
           "green",
           "red",
           "red",
           "green",
           "green",
           "green",
           "green",
           "green",
           "red",
           "red",
           "green",
           "green",
           "green",
           "green",
           "green",
           "red",
           "red",
           "green",
           "green",
           "green",
           "green",
           "green",
           "red",
           "red",
           "green",
           "green",
           "green",
           "green",
           "green",
           "red",
           "red",
           "green",
           "green",
           "green",
           "green",
           "green",
           "red",
           "red",
           "green",
           "green",
           "green",
           "green",
           "green",
           "red",
           "red",
           "green",
           "green",
           "green",
           "green",
           "green",
           "red",
           "red",
           "green",
           "green",
           "green",
           "green",
           "green",
           "red",
           "red",
           "green",
           "green",
           "green",
           "green",
           "green",
           "red",
           "red",
           "green",
           "green",
           "green",
           "green",
           "green",
           "red",
           "red",
           "green",
           "green",
           "green",
           "green",
           "green",
           "red",
           "red",
           "green",
           "green",
           "green",
           "green",
           "green",
           "red",
           "red",
           "green",
           "green",
           "green",
           "green",
           "green",
           "red",
           "red",
           "green",
           "green",
           "green",
           "green",
           "green",
           "red",
           "red",
           "green",
           "green",
           "green",
           "green",
           "green",
           "red",
           "red",
           "green",
           "green",
           "green",
           "green",
           "green",
           "red",
           "red",
           "green",
           "green",
           "green",
           "green",
           "green",
           "red",
           "red",
           "green",
           "green",
           "green",
           "green",
           "green",
           "red",
           "red",
           "green",
           "green",
           "green",
           "green",
           "green",
           "red",
           "red",
           "green",
           "green",
           "green",
           "green",
           "green",
           "red",
           "red",
           "green",
           "green",
           "green",
           "green",
           "green",
           "red",
           "red",
           "green",
           "green",
           "green",
           "green",
           "green",
           "red",
           "red",
           "green",
           "green",
           "green",
           "green",
           "green",
           "red",
           "red",
           "green",
           "green",
           "green",
           "green",
           "green",
           "red",
           "red",
           "green",
           "green",
           "green",
           "green",
           "green",
           "red",
           "red",
           "green",
           "green",
           "green",
           "green",
           "green",
           "red",
           "red",
           "green",
           "green",
           "green",
           "green",
           "green",
           "red",
           "red",
           "green",
           "green",
           "green",
           "green",
           "green",
           "red",
           "red",
           "green",
           "green",
           "green",
           "green",
           "green",
           "red",
           "red",
           "green",
           "green",
           "green",
           "green",
           "green",
           "red",
           "red",
           "green",
           "green",
           "green",
           "green",
           "green",
           "red",
           "red",
           "green",
           "green",
           "green",
           "green",
           "green",
           "red",
           "red",
           "green",
           "green",
           "green",
           "green",
           "green",
           "red",
           "red",
           "green",
           "green",
           "green",
           "green",
           "green",
           "red",
           "red",
           "green",
           "green",
           "green",
           "green",
           "green",
           "red",
           "red",
           "green",
           "green",
           "green",
           "green",
           "green",
           "red",
           "red",
           "green",
           "green",
           "green",
           "green",
           "green",
           "red",
           "red",
           "green",
           "green"
          ]
         },
         "mode": "lines+markers",
         "name": "Female",
         "type": "scatter",
         "x": [
          "2019-01-01",
          "2019-01-02",
          "2019-01-03",
          "2019-01-04",
          "2019-01-05",
          "2019-01-06",
          "2019-01-07",
          "2019-01-08",
          "2019-01-09",
          "2019-01-10",
          "2019-01-11",
          "2019-01-12",
          "2019-01-13",
          "2019-01-14",
          "2019-01-15",
          "2019-01-16",
          "2019-01-17",
          "2019-01-18",
          "2019-01-19",
          "2019-01-20",
          "2019-01-21",
          "2019-01-22",
          "2019-01-23",
          "2019-01-24",
          "2019-01-25",
          "2019-01-26",
          "2019-01-27",
          "2019-01-28",
          "2019-01-29",
          "2019-01-30",
          "2019-01-31",
          "2019-02-01",
          "2019-02-02",
          "2019-02-03",
          "2019-02-04",
          "2019-02-05",
          "2019-02-06",
          "2019-02-07",
          "2019-02-08",
          "2019-02-09",
          "2019-02-10",
          "2019-02-11",
          "2019-02-12",
          "2019-02-13",
          "2019-02-14",
          "2019-02-15",
          "2019-02-16",
          "2019-02-17",
          "2019-02-18",
          "2019-02-19",
          "2019-02-20",
          "2019-02-21",
          "2019-02-22",
          "2019-02-23",
          "2019-02-24",
          "2019-02-25",
          "2019-02-26",
          "2019-02-27",
          "2019-02-28",
          "2019-03-01",
          "2019-03-02",
          "2019-03-03",
          "2019-03-04",
          "2019-03-05",
          "2019-03-06",
          "2019-03-07",
          "2019-03-08",
          "2019-03-09",
          "2019-03-10",
          "2019-03-11",
          "2019-03-12",
          "2019-03-13",
          "2019-03-14",
          "2019-03-15",
          "2019-03-16",
          "2019-03-17",
          "2019-03-18",
          "2019-03-19",
          "2019-03-20",
          "2019-03-21",
          "2019-03-22",
          "2019-03-23",
          "2019-03-24",
          "2019-03-25",
          "2019-03-26",
          "2019-03-27",
          "2019-03-28",
          "2019-03-29",
          "2019-03-30"
         ],
         "y": [
          447.318375,
          312.6165,
          253.01325000000003,
          430.5315,
          311.55016666666666,
          221.746875,
          298.704,
          343.499625,
          329.4522,
          298.725,
          353.7905,
          316.01325,
          225.1809,
          264.31825,
          485.4225,
          454.7046,
          371.2443,
          284.75370000000004,
          316.18475,
          560.39025,
          323.84362500000003,
          173.924625,
          410.67833333333334,
          365.7801,
          334.07249999999993,
          228.39483333333334,
          333.949,
          337.4945,
          269.5854,
          346.38450000000006,
          352.6425,
          386.7129,
          198.63316666666665,
          387.48500000000007,
          243.297,
          323.2674375,
          197.8725,
          348.04665,
          504.4305,
          147.05040000000002,
          360.174,
          561.4796249999999,
          338.22862499999997,
          126.3759,
          466.788,
          480.6623181818182,
          454.78299999999996,
          441.93275,
          205.34849999999997,
          503.38890000000004,
          200.89649999999997,
          239.4945,
          181.4925,
          312.123,
          322.6125,
          397.58849999999995,
          383.0841,
          485.2246875,
          576.8385,
          295.274,
          389.5596923076923,
          491.337,
          312.0403125,
          380.16195,
          339.3845,
          111.6465,
          378.11400000000003,
          575.9955,
          283.65749999999997,
          285.88349999999997,
          314.0445,
          155.260875,
          382.767,
          223.94400000000002,
          521.7835,
          199.7835,
          185.805375,
          366.70725,
          262.9515,
          311.5455,
          389.1405,
          448.1211,
          288.87775,
          181.692,
          132.42450000000002,
          141.2425,
          221.24900000000002,
          488.8065,
          335.88275
         ]
        },
        {
         "marker": {
          "color": [
           "green",
           "green",
           "green",
           "green",
           "green",
           "red",
           "red",
           "green",
           "green",
           "green",
           "green",
           "green",
           "red",
           "red",
           "green",
           "green",
           "green",
           "green",
           "green",
           "red",
           "red",
           "green",
           "green",
           "green",
           "green",
           "green",
           "red",
           "red",
           "green",
           "green",
           "green",
           "green",
           "green",
           "red",
           "red",
           "green",
           "green",
           "green",
           "green",
           "green",
           "red",
           "red",
           "green",
           "green",
           "green",
           "green",
           "green",
           "red",
           "red",
           "green",
           "green",
           "green",
           "green",
           "green",
           "red",
           "red",
           "green",
           "green",
           "green",
           "green",
           "green",
           "red",
           "red",
           "green",
           "green",
           "green",
           "green",
           "green",
           "red",
           "red",
           "green",
           "green",
           "green",
           "green",
           "green",
           "red",
           "red",
           "green",
           "green",
           "green",
           "green",
           "green",
           "red",
           "red",
           "green",
           "green",
           "green",
           "green",
           "green",
           "red",
           "red",
           "green",
           "green",
           "green",
           "green",
           "green",
           "red",
           "red",
           "green",
           "green",
           "green",
           "green",
           "green",
           "red",
           "red",
           "green",
           "green",
           "green",
           "green",
           "green",
           "red",
           "red",
           "green",
           "green",
           "green",
           "green",
           "green",
           "red",
           "red",
           "green",
           "green",
           "green",
           "green",
           "green",
           "red",
           "red",
           "green",
           "green",
           "green",
           "green",
           "green",
           "red",
           "red",
           "green",
           "green",
           "green",
           "green",
           "green",
           "red",
           "red",
           "green",
           "green",
           "green",
           "green",
           "green",
           "red",
           "red",
           "green",
           "green",
           "green",
           "green",
           "green",
           "red",
           "red",
           "green",
           "green",
           "green",
           "green",
           "green",
           "red",
           "red",
           "green",
           "green",
           "green",
           "green",
           "green",
           "red",
           "red",
           "green",
           "green",
           "green",
           "green",
           "green",
           "red",
           "red",
           "green",
           "green",
           "green",
           "green",
           "green",
           "red",
           "red",
           "green",
           "green",
           "green",
           "green",
           "green",
           "red",
           "red",
           "green",
           "green",
           "green",
           "green",
           "green",
           "red",
           "red",
           "green",
           "green",
           "green",
           "green",
           "green",
           "red",
           "red",
           "green",
           "green",
           "green",
           "green",
           "green",
           "red",
           "red",
           "green",
           "green",
           "green",
           "green",
           "green",
           "red",
           "red",
           "green",
           "green",
           "green",
           "green",
           "green",
           "red",
           "red",
           "green",
           "green",
           "green",
           "green",
           "green",
           "red",
           "red",
           "green",
           "green",
           "green",
           "green",
           "green",
           "red",
           "red",
           "green",
           "green",
           "green",
           "green",
           "green",
           "red",
           "red",
           "green",
           "green",
           "green",
           "green",
           "green",
           "red",
           "red",
           "green",
           "green",
           "green",
           "green",
           "green",
           "red",
           "red",
           "green",
           "green",
           "green",
           "green",
           "green",
           "red",
           "red",
           "green",
           "green",
           "green",
           "green",
           "green",
           "red",
           "red",
           "green",
           "green",
           "green",
           "green",
           "green",
           "red",
           "red",
           "green",
           "green",
           "green",
           "green",
           "green",
           "red",
           "red",
           "green",
           "green",
           "green",
           "green",
           "green",
           "red",
           "red",
           "green",
           "green",
           "green",
           "green",
           "green",
           "red",
           "red",
           "green",
           "green",
           "green",
           "green",
           "green",
           "red",
           "red",
           "green",
           "green",
           "green",
           "green",
           "green",
           "red",
           "red",
           "green",
           "green",
           "green",
           "green",
           "green",
           "red",
           "red",
           "green",
           "green",
           "green",
           "green",
           "green",
           "red",
           "red",
           "green",
           "green",
           "green",
           "green",
           "green",
           "red",
           "red",
           "green",
           "green",
           "green",
           "green",
           "green",
           "red",
           "red",
           "green",
           "green",
           "green",
           "green",
           "green",
           "red",
           "red",
           "green",
           "green",
           "green",
           "green",
           "green",
           "red",
           "red",
           "green",
           "green",
           "green",
           "green",
           "green",
           "red",
           "red",
           "green",
           "green"
          ]
         },
         "mode": "lines+markers",
         "name": "Male",
         "type": "scatter",
         "x": [
          "2019-01-01",
          "2019-01-02",
          "2019-01-03",
          "2019-01-04",
          "2019-01-05",
          "2019-01-06",
          "2019-01-07",
          "2019-01-08",
          "2019-01-09",
          "2019-01-10",
          "2019-01-11",
          "2019-01-12",
          "2019-01-13",
          "2019-01-14",
          "2019-01-15",
          "2019-01-16",
          "2019-01-17",
          "2019-01-18",
          "2019-01-19",
          "2019-01-20",
          "2019-01-21",
          "2019-01-22",
          "2019-01-23",
          "2019-01-24",
          "2019-01-25",
          "2019-01-26",
          "2019-01-27",
          "2019-01-28",
          "2019-01-29",
          "2019-01-30",
          "2019-01-31",
          "2019-02-01",
          "2019-02-02",
          "2019-02-03",
          "2019-02-04",
          "2019-02-05",
          "2019-02-06",
          "2019-02-07",
          "2019-02-08",
          "2019-02-09",
          "2019-02-10",
          "2019-02-11",
          "2019-02-12",
          "2019-02-13",
          "2019-02-14",
          "2019-02-15",
          "2019-02-16",
          "2019-02-17",
          "2019-02-18",
          "2019-02-19",
          "2019-02-20",
          "2019-02-21",
          "2019-02-22",
          "2019-02-23",
          "2019-02-24",
          "2019-02-25",
          "2019-02-26",
          "2019-02-27",
          "2019-02-28",
          "2019-03-01",
          "2019-03-02",
          "2019-03-03",
          "2019-03-04",
          "2019-03-05",
          "2019-03-06",
          "2019-03-07",
          "2019-03-08",
          "2019-03-09",
          "2019-03-10",
          "2019-03-11",
          "2019-03-12",
          "2019-03-13",
          "2019-03-14",
          "2019-03-15",
          "2019-03-16",
          "2019-03-17",
          "2019-03-18",
          "2019-03-19",
          "2019-03-20",
          "2019-03-21",
          "2019-03-22",
          "2019-03-23",
          "2019-03-24",
          "2019-03-25",
          "2019-03-26",
          "2019-03-27",
          "2019-03-28",
          "2019-03-29",
          "2019-03-30"
         ],
         "y": [
          291.6585,
          220.045,
          266.518875,
          110.69800000000002,
          244.244,
          545.4435,
          335.181,
          195.2895,
          458.0275,
          516.831,
          210.71819999999997,
          657.7368,
          265.0599,
          340.101,
          424.38374999999996,
          403.1118,
          214.42225,
          339.17625,
          301.7616,
          235.648,
          274.18125000000003,
          336.35699999999997,
          287.2603125,
          446.64374999999995,
          236.18595,
          300.244875,
          326.0712,
          371.8430625,
          309.8055,
          159.98499999999999,
          379.50627272727274,
          510.972,
          470.6499,
          392.8771875,
          184.104375,
          111.2475,
          253.386,
          374.7744,
          343.01225,
          317.0803125,
          154.951125,
          574.058625,
          411.518625,
          100.786,
          210.7455,
          192.9375,
          227.88359999999997,
          378.28200000000004,
          234.6435,
          427.79362499999996,
          300.53249999999997,
          217.88025,
          292.96575,
          233.4255,
          262.262,
          224.90183333333334,
          123.186,
          329.609,
          235.83525,
          249.792,
          299.20590000000004,
          266.2765,
          349.52925,
          347.037,
          259.305375,
          183.88649999999998,
          119.6475,
          382.4531666666667,
          249.2775,
          224.72799999999998,
          302.67168749999996,
          240.42725,
          415.24979999999994,
          249.4527,
          264.85375,
          588.5775,
          183.20399999999998,
          350.84175,
          400.58168181818183,
          319.788,
          270.431,
          309.07275,
          348.8394,
          309.23969999999997,
          172.59025,
          354.156,
          225.477,
          507.605,
          494.3526
         ]
        }
       ],
       "layout": {
        "hovermode": "x",
        "template": {
         "data": {
          "bar": [
           {
            "error_x": {
             "color": "#2a3f5f"
            },
            "error_y": {
             "color": "#2a3f5f"
            },
            "marker": {
             "line": {
              "color": "#E5ECF6",
              "width": 0.5
             },
             "pattern": {
              "fillmode": "overlay",
              "size": 10,
              "solidity": 0.2
             }
            },
            "type": "bar"
           }
          ],
          "barpolar": [
           {
            "marker": {
             "line": {
              "color": "#E5ECF6",
              "width": 0.5
             },
             "pattern": {
              "fillmode": "overlay",
              "size": 10,
              "solidity": 0.2
             }
            },
            "type": "barpolar"
           }
          ],
          "carpet": [
           {
            "aaxis": {
             "endlinecolor": "#2a3f5f",
             "gridcolor": "white",
             "linecolor": "white",
             "minorgridcolor": "white",
             "startlinecolor": "#2a3f5f"
            },
            "baxis": {
             "endlinecolor": "#2a3f5f",
             "gridcolor": "white",
             "linecolor": "white",
             "minorgridcolor": "white",
             "startlinecolor": "#2a3f5f"
            },
            "type": "carpet"
           }
          ],
          "choropleth": [
           {
            "colorbar": {
             "outlinewidth": 0,
             "ticks": ""
            },
            "type": "choropleth"
           }
          ],
          "contour": [
           {
            "colorbar": {
             "outlinewidth": 0,
             "ticks": ""
            },
            "colorscale": [
             [
              0,
              "#0d0887"
             ],
             [
              0.1111111111111111,
              "#46039f"
             ],
             [
              0.2222222222222222,
              "#7201a8"
             ],
             [
              0.3333333333333333,
              "#9c179e"
             ],
             [
              0.4444444444444444,
              "#bd3786"
             ],
             [
              0.5555555555555556,
              "#d8576b"
             ],
             [
              0.6666666666666666,
              "#ed7953"
             ],
             [
              0.7777777777777778,
              "#fb9f3a"
             ],
             [
              0.8888888888888888,
              "#fdca26"
             ],
             [
              1,
              "#f0f921"
             ]
            ],
            "type": "contour"
           }
          ],
          "contourcarpet": [
           {
            "colorbar": {
             "outlinewidth": 0,
             "ticks": ""
            },
            "type": "contourcarpet"
           }
          ],
          "heatmap": [
           {
            "colorbar": {
             "outlinewidth": 0,
             "ticks": ""
            },
            "colorscale": [
             [
              0,
              "#0d0887"
             ],
             [
              0.1111111111111111,
              "#46039f"
             ],
             [
              0.2222222222222222,
              "#7201a8"
             ],
             [
              0.3333333333333333,
              "#9c179e"
             ],
             [
              0.4444444444444444,
              "#bd3786"
             ],
             [
              0.5555555555555556,
              "#d8576b"
             ],
             [
              0.6666666666666666,
              "#ed7953"
             ],
             [
              0.7777777777777778,
              "#fb9f3a"
             ],
             [
              0.8888888888888888,
              "#fdca26"
             ],
             [
              1,
              "#f0f921"
             ]
            ],
            "type": "heatmap"
           }
          ],
          "heatmapgl": [
           {
            "colorbar": {
             "outlinewidth": 0,
             "ticks": ""
            },
            "colorscale": [
             [
              0,
              "#0d0887"
             ],
             [
              0.1111111111111111,
              "#46039f"
             ],
             [
              0.2222222222222222,
              "#7201a8"
             ],
             [
              0.3333333333333333,
              "#9c179e"
             ],
             [
              0.4444444444444444,
              "#bd3786"
             ],
             [
              0.5555555555555556,
              "#d8576b"
             ],
             [
              0.6666666666666666,
              "#ed7953"
             ],
             [
              0.7777777777777778,
              "#fb9f3a"
             ],
             [
              0.8888888888888888,
              "#fdca26"
             ],
             [
              1,
              "#f0f921"
             ]
            ],
            "type": "heatmapgl"
           }
          ],
          "histogram": [
           {
            "marker": {
             "pattern": {
              "fillmode": "overlay",
              "size": 10,
              "solidity": 0.2
             }
            },
            "type": "histogram"
           }
          ],
          "histogram2d": [
           {
            "colorbar": {
             "outlinewidth": 0,
             "ticks": ""
            },
            "colorscale": [
             [
              0,
              "#0d0887"
             ],
             [
              0.1111111111111111,
              "#46039f"
             ],
             [
              0.2222222222222222,
              "#7201a8"
             ],
             [
              0.3333333333333333,
              "#9c179e"
             ],
             [
              0.4444444444444444,
              "#bd3786"
             ],
             [
              0.5555555555555556,
              "#d8576b"
             ],
             [
              0.6666666666666666,
              "#ed7953"
             ],
             [
              0.7777777777777778,
              "#fb9f3a"
             ],
             [
              0.8888888888888888,
              "#fdca26"
             ],
             [
              1,
              "#f0f921"
             ]
            ],
            "type": "histogram2d"
           }
          ],
          "histogram2dcontour": [
           {
            "colorbar": {
             "outlinewidth": 0,
             "ticks": ""
            },
            "colorscale": [
             [
              0,
              "#0d0887"
             ],
             [
              0.1111111111111111,
              "#46039f"
             ],
             [
              0.2222222222222222,
              "#7201a8"
             ],
             [
              0.3333333333333333,
              "#9c179e"
             ],
             [
              0.4444444444444444,
              "#bd3786"
             ],
             [
              0.5555555555555556,
              "#d8576b"
             ],
             [
              0.6666666666666666,
              "#ed7953"
             ],
             [
              0.7777777777777778,
              "#fb9f3a"
             ],
             [
              0.8888888888888888,
              "#fdca26"
             ],
             [
              1,
              "#f0f921"
             ]
            ],
            "type": "histogram2dcontour"
           }
          ],
          "mesh3d": [
           {
            "colorbar": {
             "outlinewidth": 0,
             "ticks": ""
            },
            "type": "mesh3d"
           }
          ],
          "parcoords": [
           {
            "line": {
             "colorbar": {
              "outlinewidth": 0,
              "ticks": ""
             }
            },
            "type": "parcoords"
           }
          ],
          "pie": [
           {
            "automargin": true,
            "type": "pie"
           }
          ],
          "scatter": [
           {
            "marker": {
             "colorbar": {
              "outlinewidth": 0,
              "ticks": ""
             }
            },
            "type": "scatter"
           }
          ],
          "scatter3d": [
           {
            "line": {
             "colorbar": {
              "outlinewidth": 0,
              "ticks": ""
             }
            },
            "marker": {
             "colorbar": {
              "outlinewidth": 0,
              "ticks": ""
             }
            },
            "type": "scatter3d"
           }
          ],
          "scattercarpet": [
           {
            "marker": {
             "colorbar": {
              "outlinewidth": 0,
              "ticks": ""
             }
            },
            "type": "scattercarpet"
           }
          ],
          "scattergeo": [
           {
            "marker": {
             "colorbar": {
              "outlinewidth": 0,
              "ticks": ""
             }
            },
            "type": "scattergeo"
           }
          ],
          "scattergl": [
           {
            "marker": {
             "colorbar": {
              "outlinewidth": 0,
              "ticks": ""
             }
            },
            "type": "scattergl"
           }
          ],
          "scattermapbox": [
           {
            "marker": {
             "colorbar": {
              "outlinewidth": 0,
              "ticks": ""
             }
            },
            "type": "scattermapbox"
           }
          ],
          "scatterpolar": [
           {
            "marker": {
             "colorbar": {
              "outlinewidth": 0,
              "ticks": ""
             }
            },
            "type": "scatterpolar"
           }
          ],
          "scatterpolargl": [
           {
            "marker": {
             "colorbar": {
              "outlinewidth": 0,
              "ticks": ""
             }
            },
            "type": "scatterpolargl"
           }
          ],
          "scatterternary": [
           {
            "marker": {
             "colorbar": {
              "outlinewidth": 0,
              "ticks": ""
             }
            },
            "type": "scatterternary"
           }
          ],
          "surface": [
           {
            "colorbar": {
             "outlinewidth": 0,
             "ticks": ""
            },
            "colorscale": [
             [
              0,
              "#0d0887"
             ],
             [
              0.1111111111111111,
              "#46039f"
             ],
             [
              0.2222222222222222,
              "#7201a8"
             ],
             [
              0.3333333333333333,
              "#9c179e"
             ],
             [
              0.4444444444444444,
              "#bd3786"
             ],
             [
              0.5555555555555556,
              "#d8576b"
             ],
             [
              0.6666666666666666,
              "#ed7953"
             ],
             [
              0.7777777777777778,
              "#fb9f3a"
             ],
             [
              0.8888888888888888,
              "#fdca26"
             ],
             [
              1,
              "#f0f921"
             ]
            ],
            "type": "surface"
           }
          ],
          "table": [
           {
            "cells": {
             "fill": {
              "color": "#EBF0F8"
             },
             "line": {
              "color": "white"
             }
            },
            "header": {
             "fill": {
              "color": "#C8D4E3"
             },
             "line": {
              "color": "white"
             }
            },
            "type": "table"
           }
          ]
         },
         "layout": {
          "annotationdefaults": {
           "arrowcolor": "#2a3f5f",
           "arrowhead": 0,
           "arrowwidth": 1
          },
          "autotypenumbers": "strict",
          "coloraxis": {
           "colorbar": {
            "outlinewidth": 0,
            "ticks": ""
           }
          },
          "colorscale": {
           "diverging": [
            [
             0,
             "#8e0152"
            ],
            [
             0.1,
             "#c51b7d"
            ],
            [
             0.2,
             "#de77ae"
            ],
            [
             0.3,
             "#f1b6da"
            ],
            [
             0.4,
             "#fde0ef"
            ],
            [
             0.5,
             "#f7f7f7"
            ],
            [
             0.6,
             "#e6f5d0"
            ],
            [
             0.7,
             "#b8e186"
            ],
            [
             0.8,
             "#7fbc41"
            ],
            [
             0.9,
             "#4d9221"
            ],
            [
             1,
             "#276419"
            ]
           ],
           "sequential": [
            [
             0,
             "#0d0887"
            ],
            [
             0.1111111111111111,
             "#46039f"
            ],
            [
             0.2222222222222222,
             "#7201a8"
            ],
            [
             0.3333333333333333,
             "#9c179e"
            ],
            [
             0.4444444444444444,
             "#bd3786"
            ],
            [
             0.5555555555555556,
             "#d8576b"
            ],
            [
             0.6666666666666666,
             "#ed7953"
            ],
            [
             0.7777777777777778,
             "#fb9f3a"
            ],
            [
             0.8888888888888888,
             "#fdca26"
            ],
            [
             1,
             "#f0f921"
            ]
           ],
           "sequentialminus": [
            [
             0,
             "#0d0887"
            ],
            [
             0.1111111111111111,
             "#46039f"
            ],
            [
             0.2222222222222222,
             "#7201a8"
            ],
            [
             0.3333333333333333,
             "#9c179e"
            ],
            [
             0.4444444444444444,
             "#bd3786"
            ],
            [
             0.5555555555555556,
             "#d8576b"
            ],
            [
             0.6666666666666666,
             "#ed7953"
            ],
            [
             0.7777777777777778,
             "#fb9f3a"
            ],
            [
             0.8888888888888888,
             "#fdca26"
            ],
            [
             1,
             "#f0f921"
            ]
           ]
          },
          "colorway": [
           "#636efa",
           "#EF553B",
           "#00cc96",
           "#ab63fa",
           "#FFA15A",
           "#19d3f3",
           "#FF6692",
           "#B6E880",
           "#FF97FF",
           "#FECB52"
          ],
          "font": {
           "color": "#2a3f5f"
          },
          "geo": {
           "bgcolor": "white",
           "lakecolor": "white",
           "landcolor": "#E5ECF6",
           "showlakes": true,
           "showland": true,
           "subunitcolor": "white"
          },
          "hoverlabel": {
           "align": "left"
          },
          "hovermode": "closest",
          "mapbox": {
           "style": "light"
          },
          "paper_bgcolor": "white",
          "plot_bgcolor": "#E5ECF6",
          "polar": {
           "angularaxis": {
            "gridcolor": "white",
            "linecolor": "white",
            "ticks": ""
           },
           "bgcolor": "#E5ECF6",
           "radialaxis": {
            "gridcolor": "white",
            "linecolor": "white",
            "ticks": ""
           }
          },
          "scene": {
           "xaxis": {
            "backgroundcolor": "#E5ECF6",
            "gridcolor": "white",
            "gridwidth": 2,
            "linecolor": "white",
            "showbackground": true,
            "ticks": "",
            "zerolinecolor": "white"
           },
           "yaxis": {
            "backgroundcolor": "#E5ECF6",
            "gridcolor": "white",
            "gridwidth": 2,
            "linecolor": "white",
            "showbackground": true,
            "ticks": "",
            "zerolinecolor": "white"
           },
           "zaxis": {
            "backgroundcolor": "#E5ECF6",
            "gridcolor": "white",
            "gridwidth": 2,
            "linecolor": "white",
            "showbackground": true,
            "ticks": "",
            "zerolinecolor": "white"
           }
          },
          "shapedefaults": {
           "line": {
            "color": "#2a3f5f"
           }
          },
          "ternary": {
           "aaxis": {
            "gridcolor": "white",
            "linecolor": "white",
            "ticks": ""
           },
           "baxis": {
            "gridcolor": "white",
            "linecolor": "white",
            "ticks": ""
           },
           "bgcolor": "#E5ECF6",
           "caxis": {
            "gridcolor": "white",
            "linecolor": "white",
            "ticks": ""
           }
          },
          "title": {
           "x": 0.05
          },
          "xaxis": {
           "automargin": true,
           "gridcolor": "white",
           "linecolor": "white",
           "ticks": "",
           "title": {
            "standoff": 15
           },
           "zerolinecolor": "white",
           "zerolinewidth": 2
          },
          "yaxis": {
           "automargin": true,
           "gridcolor": "white",
           "linecolor": "white",
           "ticks": "",
           "title": {
            "standoff": 15
           },
           "zerolinecolor": "white",
           "zerolinewidth": 2
          }
         }
        },
        "title": {
         "text": "Average customer daily purchasing based on Gender, green marker represent weekday and red marker represent weekend"
        }
       }
      },
      "text/html": [
       "<div>                            <div id=\"dce77d3a-72b8-44b5-9012-ec99057defbc\" class=\"plotly-graph-div\" style=\"height:525px; width:100%;\"></div>            <script type=\"text/javascript\">                require([\"plotly\"], function(Plotly) {                    window.PLOTLYENV=window.PLOTLYENV || {};                                    if (document.getElementById(\"dce77d3a-72b8-44b5-9012-ec99057defbc\")) {                    Plotly.newPlot(                        \"dce77d3a-72b8-44b5-9012-ec99057defbc\",                        [{\"marker\":{\"color\":[\"green\",\"green\",\"green\",\"green\",\"green\",\"red\",\"red\",\"green\",\"green\",\"green\",\"green\",\"green\",\"red\",\"red\",\"green\",\"green\",\"green\",\"green\",\"green\",\"red\",\"red\",\"green\",\"green\",\"green\",\"green\",\"green\",\"red\",\"red\",\"green\",\"green\",\"green\",\"green\",\"green\",\"red\",\"red\",\"green\",\"green\",\"green\",\"green\",\"green\",\"red\",\"red\",\"green\",\"green\",\"green\",\"green\",\"green\",\"red\",\"red\",\"green\",\"green\",\"green\",\"green\",\"green\",\"red\",\"red\",\"green\",\"green\",\"green\",\"green\",\"green\",\"red\",\"red\",\"green\",\"green\",\"green\",\"green\",\"green\",\"red\",\"red\",\"green\",\"green\",\"green\",\"green\",\"green\",\"red\",\"red\",\"green\",\"green\",\"green\",\"green\",\"green\",\"red\",\"red\",\"green\",\"green\",\"green\",\"green\",\"green\",\"red\",\"red\",\"green\",\"green\",\"green\",\"green\",\"green\",\"red\",\"red\",\"green\",\"green\",\"green\",\"green\",\"green\",\"red\",\"red\",\"green\",\"green\",\"green\",\"green\",\"green\",\"red\",\"red\",\"green\",\"green\",\"green\",\"green\",\"green\",\"red\",\"red\",\"green\",\"green\",\"green\",\"green\",\"green\",\"red\",\"red\",\"green\",\"green\",\"green\",\"green\",\"green\",\"red\",\"red\",\"green\",\"green\",\"green\",\"green\",\"green\",\"red\",\"red\",\"green\",\"green\",\"green\",\"green\",\"green\",\"red\",\"red\",\"green\",\"green\",\"green\",\"green\",\"green\",\"red\",\"red\",\"green\",\"green\",\"green\",\"green\",\"green\",\"red\",\"red\",\"green\",\"green\",\"green\",\"green\",\"green\",\"red\",\"red\",\"green\",\"green\",\"green\",\"green\",\"green\",\"red\",\"red\",\"green\",\"green\",\"green\",\"green\",\"green\",\"red\",\"red\",\"green\",\"green\",\"green\",\"green\",\"green\",\"red\",\"red\",\"green\",\"green\",\"green\",\"green\",\"green\",\"red\",\"red\",\"green\",\"green\",\"green\",\"green\",\"green\",\"red\",\"red\",\"green\",\"green\",\"green\",\"green\",\"green\",\"red\",\"red\",\"green\",\"green\",\"green\",\"green\",\"green\",\"red\",\"red\",\"green\",\"green\",\"green\",\"green\",\"green\",\"red\",\"red\",\"green\",\"green\",\"green\",\"green\",\"green\",\"red\",\"red\",\"green\",\"green\",\"green\",\"green\",\"green\",\"red\",\"red\",\"green\",\"green\",\"green\",\"green\",\"green\",\"red\",\"red\",\"green\",\"green\",\"green\",\"green\",\"green\",\"red\",\"red\",\"green\",\"green\",\"green\",\"green\",\"green\",\"red\",\"red\",\"green\",\"green\",\"green\",\"green\",\"green\",\"red\",\"red\",\"green\",\"green\",\"green\",\"green\",\"green\",\"red\",\"red\",\"green\",\"green\",\"green\",\"green\",\"green\",\"red\",\"red\",\"green\",\"green\",\"green\",\"green\",\"green\",\"red\",\"red\",\"green\",\"green\",\"green\",\"green\",\"green\",\"red\",\"red\",\"green\",\"green\",\"green\",\"green\",\"green\",\"red\",\"red\",\"green\",\"green\",\"green\",\"green\",\"green\",\"red\",\"red\",\"green\",\"green\",\"green\",\"green\",\"green\",\"red\",\"red\",\"green\",\"green\",\"green\",\"green\",\"green\",\"red\",\"red\",\"green\",\"green\",\"green\",\"green\",\"green\",\"red\",\"red\",\"green\",\"green\",\"green\",\"green\",\"green\",\"red\",\"red\",\"green\",\"green\",\"green\",\"green\",\"green\",\"red\",\"red\",\"green\",\"green\",\"green\",\"green\",\"green\",\"red\",\"red\",\"green\",\"green\",\"green\",\"green\",\"green\",\"red\",\"red\",\"green\",\"green\",\"green\",\"green\",\"green\",\"red\",\"red\",\"green\",\"green\"]},\"mode\":\"lines+markers\",\"name\":\"Female\",\"type\":\"scatter\",\"x\":[\"2019-01-01\",\"2019-01-02\",\"2019-01-03\",\"2019-01-04\",\"2019-01-05\",\"2019-01-06\",\"2019-01-07\",\"2019-01-08\",\"2019-01-09\",\"2019-01-10\",\"2019-01-11\",\"2019-01-12\",\"2019-01-13\",\"2019-01-14\",\"2019-01-15\",\"2019-01-16\",\"2019-01-17\",\"2019-01-18\",\"2019-01-19\",\"2019-01-20\",\"2019-01-21\",\"2019-01-22\",\"2019-01-23\",\"2019-01-24\",\"2019-01-25\",\"2019-01-26\",\"2019-01-27\",\"2019-01-28\",\"2019-01-29\",\"2019-01-30\",\"2019-01-31\",\"2019-02-01\",\"2019-02-02\",\"2019-02-03\",\"2019-02-04\",\"2019-02-05\",\"2019-02-06\",\"2019-02-07\",\"2019-02-08\",\"2019-02-09\",\"2019-02-10\",\"2019-02-11\",\"2019-02-12\",\"2019-02-13\",\"2019-02-14\",\"2019-02-15\",\"2019-02-16\",\"2019-02-17\",\"2019-02-18\",\"2019-02-19\",\"2019-02-20\",\"2019-02-21\",\"2019-02-22\",\"2019-02-23\",\"2019-02-24\",\"2019-02-25\",\"2019-02-26\",\"2019-02-27\",\"2019-02-28\",\"2019-03-01\",\"2019-03-02\",\"2019-03-03\",\"2019-03-04\",\"2019-03-05\",\"2019-03-06\",\"2019-03-07\",\"2019-03-08\",\"2019-03-09\",\"2019-03-10\",\"2019-03-11\",\"2019-03-12\",\"2019-03-13\",\"2019-03-14\",\"2019-03-15\",\"2019-03-16\",\"2019-03-17\",\"2019-03-18\",\"2019-03-19\",\"2019-03-20\",\"2019-03-21\",\"2019-03-22\",\"2019-03-23\",\"2019-03-24\",\"2019-03-25\",\"2019-03-26\",\"2019-03-27\",\"2019-03-28\",\"2019-03-29\",\"2019-03-30\"],\"y\":[447.318375,312.6165,253.01325000000003,430.5315,311.55016666666666,221.746875,298.704,343.499625,329.4522,298.725,353.7905,316.01325,225.1809,264.31825,485.4225,454.7046,371.2443,284.75370000000004,316.18475,560.39025,323.84362500000003,173.924625,410.67833333333334,365.7801,334.07249999999993,228.39483333333334,333.949,337.4945,269.5854,346.38450000000006,352.6425,386.7129,198.63316666666665,387.48500000000007,243.297,323.2674375,197.8725,348.04665,504.4305,147.05040000000002,360.174,561.4796249999999,338.22862499999997,126.3759,466.788,480.6623181818182,454.78299999999996,441.93275,205.34849999999997,503.38890000000004,200.89649999999997,239.4945,181.4925,312.123,322.6125,397.58849999999995,383.0841,485.2246875,576.8385,295.274,389.5596923076923,491.337,312.0403125,380.16195,339.3845,111.6465,378.11400000000003,575.9955,283.65749999999997,285.88349999999997,314.0445,155.260875,382.767,223.94400000000002,521.7835,199.7835,185.805375,366.70725,262.9515,311.5455,389.1405,448.1211,288.87775,181.692,132.42450000000002,141.2425,221.24900000000002,488.8065,335.88275]},{\"marker\":{\"color\":[\"green\",\"green\",\"green\",\"green\",\"green\",\"red\",\"red\",\"green\",\"green\",\"green\",\"green\",\"green\",\"red\",\"red\",\"green\",\"green\",\"green\",\"green\",\"green\",\"red\",\"red\",\"green\",\"green\",\"green\",\"green\",\"green\",\"red\",\"red\",\"green\",\"green\",\"green\",\"green\",\"green\",\"red\",\"red\",\"green\",\"green\",\"green\",\"green\",\"green\",\"red\",\"red\",\"green\",\"green\",\"green\",\"green\",\"green\",\"red\",\"red\",\"green\",\"green\",\"green\",\"green\",\"green\",\"red\",\"red\",\"green\",\"green\",\"green\",\"green\",\"green\",\"red\",\"red\",\"green\",\"green\",\"green\",\"green\",\"green\",\"red\",\"red\",\"green\",\"green\",\"green\",\"green\",\"green\",\"red\",\"red\",\"green\",\"green\",\"green\",\"green\",\"green\",\"red\",\"red\",\"green\",\"green\",\"green\",\"green\",\"green\",\"red\",\"red\",\"green\",\"green\",\"green\",\"green\",\"green\",\"red\",\"red\",\"green\",\"green\",\"green\",\"green\",\"green\",\"red\",\"red\",\"green\",\"green\",\"green\",\"green\",\"green\",\"red\",\"red\",\"green\",\"green\",\"green\",\"green\",\"green\",\"red\",\"red\",\"green\",\"green\",\"green\",\"green\",\"green\",\"red\",\"red\",\"green\",\"green\",\"green\",\"green\",\"green\",\"red\",\"red\",\"green\",\"green\",\"green\",\"green\",\"green\",\"red\",\"red\",\"green\",\"green\",\"green\",\"green\",\"green\",\"red\",\"red\",\"green\",\"green\",\"green\",\"green\",\"green\",\"red\",\"red\",\"green\",\"green\",\"green\",\"green\",\"green\",\"red\",\"red\",\"green\",\"green\",\"green\",\"green\",\"green\",\"red\",\"red\",\"green\",\"green\",\"green\",\"green\",\"green\",\"red\",\"red\",\"green\",\"green\",\"green\",\"green\",\"green\",\"red\",\"red\",\"green\",\"green\",\"green\",\"green\",\"green\",\"red\",\"red\",\"green\",\"green\",\"green\",\"green\",\"green\",\"red\",\"red\",\"green\",\"green\",\"green\",\"green\",\"green\",\"red\",\"red\",\"green\",\"green\",\"green\",\"green\",\"green\",\"red\",\"red\",\"green\",\"green\",\"green\",\"green\",\"green\",\"red\",\"red\",\"green\",\"green\",\"green\",\"green\",\"green\",\"red\",\"red\",\"green\",\"green\",\"green\",\"green\",\"green\",\"red\",\"red\",\"green\",\"green\",\"green\",\"green\",\"green\",\"red\",\"red\",\"green\",\"green\",\"green\",\"green\",\"green\",\"red\",\"red\",\"green\",\"green\",\"green\",\"green\",\"green\",\"red\",\"red\",\"green\",\"green\",\"green\",\"green\",\"green\",\"red\",\"red\",\"green\",\"green\",\"green\",\"green\",\"green\",\"red\",\"red\",\"green\",\"green\",\"green\",\"green\",\"green\",\"red\",\"red\",\"green\",\"green\",\"green\",\"green\",\"green\",\"red\",\"red\",\"green\",\"green\",\"green\",\"green\",\"green\",\"red\",\"red\",\"green\",\"green\",\"green\",\"green\",\"green\",\"red\",\"red\",\"green\",\"green\",\"green\",\"green\",\"green\",\"red\",\"red\",\"green\",\"green\",\"green\",\"green\",\"green\",\"red\",\"red\",\"green\",\"green\",\"green\",\"green\",\"green\",\"red\",\"red\",\"green\",\"green\",\"green\",\"green\",\"green\",\"red\",\"red\",\"green\",\"green\",\"green\",\"green\",\"green\",\"red\",\"red\",\"green\",\"green\",\"green\",\"green\",\"green\",\"red\",\"red\",\"green\",\"green\",\"green\",\"green\",\"green\",\"red\",\"red\",\"green\",\"green\",\"green\",\"green\",\"green\",\"red\",\"red\",\"green\",\"green\",\"green\",\"green\",\"green\",\"red\",\"red\",\"green\",\"green\",\"green\",\"green\",\"green\",\"red\",\"red\",\"green\",\"green\"]},\"mode\":\"lines+markers\",\"name\":\"Male\",\"type\":\"scatter\",\"x\":[\"2019-01-01\",\"2019-01-02\",\"2019-01-03\",\"2019-01-04\",\"2019-01-05\",\"2019-01-06\",\"2019-01-07\",\"2019-01-08\",\"2019-01-09\",\"2019-01-10\",\"2019-01-11\",\"2019-01-12\",\"2019-01-13\",\"2019-01-14\",\"2019-01-15\",\"2019-01-16\",\"2019-01-17\",\"2019-01-18\",\"2019-01-19\",\"2019-01-20\",\"2019-01-21\",\"2019-01-22\",\"2019-01-23\",\"2019-01-24\",\"2019-01-25\",\"2019-01-26\",\"2019-01-27\",\"2019-01-28\",\"2019-01-29\",\"2019-01-30\",\"2019-01-31\",\"2019-02-01\",\"2019-02-02\",\"2019-02-03\",\"2019-02-04\",\"2019-02-05\",\"2019-02-06\",\"2019-02-07\",\"2019-02-08\",\"2019-02-09\",\"2019-02-10\",\"2019-02-11\",\"2019-02-12\",\"2019-02-13\",\"2019-02-14\",\"2019-02-15\",\"2019-02-16\",\"2019-02-17\",\"2019-02-18\",\"2019-02-19\",\"2019-02-20\",\"2019-02-21\",\"2019-02-22\",\"2019-02-23\",\"2019-02-24\",\"2019-02-25\",\"2019-02-26\",\"2019-02-27\",\"2019-02-28\",\"2019-03-01\",\"2019-03-02\",\"2019-03-03\",\"2019-03-04\",\"2019-03-05\",\"2019-03-06\",\"2019-03-07\",\"2019-03-08\",\"2019-03-09\",\"2019-03-10\",\"2019-03-11\",\"2019-03-12\",\"2019-03-13\",\"2019-03-14\",\"2019-03-15\",\"2019-03-16\",\"2019-03-17\",\"2019-03-18\",\"2019-03-19\",\"2019-03-20\",\"2019-03-21\",\"2019-03-22\",\"2019-03-23\",\"2019-03-24\",\"2019-03-25\",\"2019-03-26\",\"2019-03-27\",\"2019-03-28\",\"2019-03-29\",\"2019-03-30\"],\"y\":[291.6585,220.045,266.518875,110.69800000000002,244.244,545.4435,335.181,195.2895,458.0275,516.831,210.71819999999997,657.7368,265.0599,340.101,424.38374999999996,403.1118,214.42225,339.17625,301.7616,235.648,274.18125000000003,336.35699999999997,287.2603125,446.64374999999995,236.18595,300.244875,326.0712,371.8430625,309.8055,159.98499999999999,379.50627272727274,510.972,470.6499,392.8771875,184.104375,111.2475,253.386,374.7744,343.01225,317.0803125,154.951125,574.058625,411.518625,100.786,210.7455,192.9375,227.88359999999997,378.28200000000004,234.6435,427.79362499999996,300.53249999999997,217.88025,292.96575,233.4255,262.262,224.90183333333334,123.186,329.609,235.83525,249.792,299.20590000000004,266.2765,349.52925,347.037,259.305375,183.88649999999998,119.6475,382.4531666666667,249.2775,224.72799999999998,302.67168749999996,240.42725,415.24979999999994,249.4527,264.85375,588.5775,183.20399999999998,350.84175,400.58168181818183,319.788,270.431,309.07275,348.8394,309.23969999999997,172.59025,354.156,225.477,507.605,494.3526]}],                        {\"hovermode\":\"x\",\"template\":{\"data\":{\"bar\":[{\"error_x\":{\"color\":\"#2a3f5f\"},\"error_y\":{\"color\":\"#2a3f5f\"},\"marker\":{\"line\":{\"color\":\"#E5ECF6\",\"width\":0.5},\"pattern\":{\"fillmode\":\"overlay\",\"size\":10,\"solidity\":0.2}},\"type\":\"bar\"}],\"barpolar\":[{\"marker\":{\"line\":{\"color\":\"#E5ECF6\",\"width\":0.5},\"pattern\":{\"fillmode\":\"overlay\",\"size\":10,\"solidity\":0.2}},\"type\":\"barpolar\"}],\"carpet\":[{\"aaxis\":{\"endlinecolor\":\"#2a3f5f\",\"gridcolor\":\"white\",\"linecolor\":\"white\",\"minorgridcolor\":\"white\",\"startlinecolor\":\"#2a3f5f\"},\"baxis\":{\"endlinecolor\":\"#2a3f5f\",\"gridcolor\":\"white\",\"linecolor\":\"white\",\"minorgridcolor\":\"white\",\"startlinecolor\":\"#2a3f5f\"},\"type\":\"carpet\"}],\"choropleth\":[{\"colorbar\":{\"outlinewidth\":0,\"ticks\":\"\"},\"type\":\"choropleth\"}],\"contour\":[{\"colorbar\":{\"outlinewidth\":0,\"ticks\":\"\"},\"colorscale\":[[0.0,\"#0d0887\"],[0.1111111111111111,\"#46039f\"],[0.2222222222222222,\"#7201a8\"],[0.3333333333333333,\"#9c179e\"],[0.4444444444444444,\"#bd3786\"],[0.5555555555555556,\"#d8576b\"],[0.6666666666666666,\"#ed7953\"],[0.7777777777777778,\"#fb9f3a\"],[0.8888888888888888,\"#fdca26\"],[1.0,\"#f0f921\"]],\"type\":\"contour\"}],\"contourcarpet\":[{\"colorbar\":{\"outlinewidth\":0,\"ticks\":\"\"},\"type\":\"contourcarpet\"}],\"heatmap\":[{\"colorbar\":{\"outlinewidth\":0,\"ticks\":\"\"},\"colorscale\":[[0.0,\"#0d0887\"],[0.1111111111111111,\"#46039f\"],[0.2222222222222222,\"#7201a8\"],[0.3333333333333333,\"#9c179e\"],[0.4444444444444444,\"#bd3786\"],[0.5555555555555556,\"#d8576b\"],[0.6666666666666666,\"#ed7953\"],[0.7777777777777778,\"#fb9f3a\"],[0.8888888888888888,\"#fdca26\"],[1.0,\"#f0f921\"]],\"type\":\"heatmap\"}],\"heatmapgl\":[{\"colorbar\":{\"outlinewidth\":0,\"ticks\":\"\"},\"colorscale\":[[0.0,\"#0d0887\"],[0.1111111111111111,\"#46039f\"],[0.2222222222222222,\"#7201a8\"],[0.3333333333333333,\"#9c179e\"],[0.4444444444444444,\"#bd3786\"],[0.5555555555555556,\"#d8576b\"],[0.6666666666666666,\"#ed7953\"],[0.7777777777777778,\"#fb9f3a\"],[0.8888888888888888,\"#fdca26\"],[1.0,\"#f0f921\"]],\"type\":\"heatmapgl\"}],\"histogram\":[{\"marker\":{\"pattern\":{\"fillmode\":\"overlay\",\"size\":10,\"solidity\":0.2}},\"type\":\"histogram\"}],\"histogram2d\":[{\"colorbar\":{\"outlinewidth\":0,\"ticks\":\"\"},\"colorscale\":[[0.0,\"#0d0887\"],[0.1111111111111111,\"#46039f\"],[0.2222222222222222,\"#7201a8\"],[0.3333333333333333,\"#9c179e\"],[0.4444444444444444,\"#bd3786\"],[0.5555555555555556,\"#d8576b\"],[0.6666666666666666,\"#ed7953\"],[0.7777777777777778,\"#fb9f3a\"],[0.8888888888888888,\"#fdca26\"],[1.0,\"#f0f921\"]],\"type\":\"histogram2d\"}],\"histogram2dcontour\":[{\"colorbar\":{\"outlinewidth\":0,\"ticks\":\"\"},\"colorscale\":[[0.0,\"#0d0887\"],[0.1111111111111111,\"#46039f\"],[0.2222222222222222,\"#7201a8\"],[0.3333333333333333,\"#9c179e\"],[0.4444444444444444,\"#bd3786\"],[0.5555555555555556,\"#d8576b\"],[0.6666666666666666,\"#ed7953\"],[0.7777777777777778,\"#fb9f3a\"],[0.8888888888888888,\"#fdca26\"],[1.0,\"#f0f921\"]],\"type\":\"histogram2dcontour\"}],\"mesh3d\":[{\"colorbar\":{\"outlinewidth\":0,\"ticks\":\"\"},\"type\":\"mesh3d\"}],\"parcoords\":[{\"line\":{\"colorbar\":{\"outlinewidth\":0,\"ticks\":\"\"}},\"type\":\"parcoords\"}],\"pie\":[{\"automargin\":true,\"type\":\"pie\"}],\"scatter\":[{\"marker\":{\"colorbar\":{\"outlinewidth\":0,\"ticks\":\"\"}},\"type\":\"scatter\"}],\"scatter3d\":[{\"line\":{\"colorbar\":{\"outlinewidth\":0,\"ticks\":\"\"}},\"marker\":{\"colorbar\":{\"outlinewidth\":0,\"ticks\":\"\"}},\"type\":\"scatter3d\"}],\"scattercarpet\":[{\"marker\":{\"colorbar\":{\"outlinewidth\":0,\"ticks\":\"\"}},\"type\":\"scattercarpet\"}],\"scattergeo\":[{\"marker\":{\"colorbar\":{\"outlinewidth\":0,\"ticks\":\"\"}},\"type\":\"scattergeo\"}],\"scattergl\":[{\"marker\":{\"colorbar\":{\"outlinewidth\":0,\"ticks\":\"\"}},\"type\":\"scattergl\"}],\"scattermapbox\":[{\"marker\":{\"colorbar\":{\"outlinewidth\":0,\"ticks\":\"\"}},\"type\":\"scattermapbox\"}],\"scatterpolar\":[{\"marker\":{\"colorbar\":{\"outlinewidth\":0,\"ticks\":\"\"}},\"type\":\"scatterpolar\"}],\"scatterpolargl\":[{\"marker\":{\"colorbar\":{\"outlinewidth\":0,\"ticks\":\"\"}},\"type\":\"scatterpolargl\"}],\"scatterternary\":[{\"marker\":{\"colorbar\":{\"outlinewidth\":0,\"ticks\":\"\"}},\"type\":\"scatterternary\"}],\"surface\":[{\"colorbar\":{\"outlinewidth\":0,\"ticks\":\"\"},\"colorscale\":[[0.0,\"#0d0887\"],[0.1111111111111111,\"#46039f\"],[0.2222222222222222,\"#7201a8\"],[0.3333333333333333,\"#9c179e\"],[0.4444444444444444,\"#bd3786\"],[0.5555555555555556,\"#d8576b\"],[0.6666666666666666,\"#ed7953\"],[0.7777777777777778,\"#fb9f3a\"],[0.8888888888888888,\"#fdca26\"],[1.0,\"#f0f921\"]],\"type\":\"surface\"}],\"table\":[{\"cells\":{\"fill\":{\"color\":\"#EBF0F8\"},\"line\":{\"color\":\"white\"}},\"header\":{\"fill\":{\"color\":\"#C8D4E3\"},\"line\":{\"color\":\"white\"}},\"type\":\"table\"}]},\"layout\":{\"annotationdefaults\":{\"arrowcolor\":\"#2a3f5f\",\"arrowhead\":0,\"arrowwidth\":1},\"autotypenumbers\":\"strict\",\"coloraxis\":{\"colorbar\":{\"outlinewidth\":0,\"ticks\":\"\"}},\"colorscale\":{\"diverging\":[[0,\"#8e0152\"],[0.1,\"#c51b7d\"],[0.2,\"#de77ae\"],[0.3,\"#f1b6da\"],[0.4,\"#fde0ef\"],[0.5,\"#f7f7f7\"],[0.6,\"#e6f5d0\"],[0.7,\"#b8e186\"],[0.8,\"#7fbc41\"],[0.9,\"#4d9221\"],[1,\"#276419\"]],\"sequential\":[[0.0,\"#0d0887\"],[0.1111111111111111,\"#46039f\"],[0.2222222222222222,\"#7201a8\"],[0.3333333333333333,\"#9c179e\"],[0.4444444444444444,\"#bd3786\"],[0.5555555555555556,\"#d8576b\"],[0.6666666666666666,\"#ed7953\"],[0.7777777777777778,\"#fb9f3a\"],[0.8888888888888888,\"#fdca26\"],[1.0,\"#f0f921\"]],\"sequentialminus\":[[0.0,\"#0d0887\"],[0.1111111111111111,\"#46039f\"],[0.2222222222222222,\"#7201a8\"],[0.3333333333333333,\"#9c179e\"],[0.4444444444444444,\"#bd3786\"],[0.5555555555555556,\"#d8576b\"],[0.6666666666666666,\"#ed7953\"],[0.7777777777777778,\"#fb9f3a\"],[0.8888888888888888,\"#fdca26\"],[1.0,\"#f0f921\"]]},\"colorway\":[\"#636efa\",\"#EF553B\",\"#00cc96\",\"#ab63fa\",\"#FFA15A\",\"#19d3f3\",\"#FF6692\",\"#B6E880\",\"#FF97FF\",\"#FECB52\"],\"font\":{\"color\":\"#2a3f5f\"},\"geo\":{\"bgcolor\":\"white\",\"lakecolor\":\"white\",\"landcolor\":\"#E5ECF6\",\"showlakes\":true,\"showland\":true,\"subunitcolor\":\"white\"},\"hoverlabel\":{\"align\":\"left\"},\"hovermode\":\"closest\",\"mapbox\":{\"style\":\"light\"},\"paper_bgcolor\":\"white\",\"plot_bgcolor\":\"#E5ECF6\",\"polar\":{\"angularaxis\":{\"gridcolor\":\"white\",\"linecolor\":\"white\",\"ticks\":\"\"},\"bgcolor\":\"#E5ECF6\",\"radialaxis\":{\"gridcolor\":\"white\",\"linecolor\":\"white\",\"ticks\":\"\"}},\"scene\":{\"xaxis\":{\"backgroundcolor\":\"#E5ECF6\",\"gridcolor\":\"white\",\"gridwidth\":2,\"linecolor\":\"white\",\"showbackground\":true,\"ticks\":\"\",\"zerolinecolor\":\"white\"},\"yaxis\":{\"backgroundcolor\":\"#E5ECF6\",\"gridcolor\":\"white\",\"gridwidth\":2,\"linecolor\":\"white\",\"showbackground\":true,\"ticks\":\"\",\"zerolinecolor\":\"white\"},\"zaxis\":{\"backgroundcolor\":\"#E5ECF6\",\"gridcolor\":\"white\",\"gridwidth\":2,\"linecolor\":\"white\",\"showbackground\":true,\"ticks\":\"\",\"zerolinecolor\":\"white\"}},\"shapedefaults\":{\"line\":{\"color\":\"#2a3f5f\"}},\"ternary\":{\"aaxis\":{\"gridcolor\":\"white\",\"linecolor\":\"white\",\"ticks\":\"\"},\"baxis\":{\"gridcolor\":\"white\",\"linecolor\":\"white\",\"ticks\":\"\"},\"bgcolor\":\"#E5ECF6\",\"caxis\":{\"gridcolor\":\"white\",\"linecolor\":\"white\",\"ticks\":\"\"}},\"title\":{\"x\":0.05},\"xaxis\":{\"automargin\":true,\"gridcolor\":\"white\",\"linecolor\":\"white\",\"ticks\":\"\",\"title\":{\"standoff\":15},\"zerolinecolor\":\"white\",\"zerolinewidth\":2},\"yaxis\":{\"automargin\":true,\"gridcolor\":\"white\",\"linecolor\":\"white\",\"ticks\":\"\",\"title\":{\"standoff\":15},\"zerolinecolor\":\"white\",\"zerolinewidth\":2}}},\"title\":{\"text\":\"Average customer daily purchasing based on Gender, green marker represent weekday and red marker represent weekend\"}},                        {\"responsive\": true}                    ).then(function(){\n",
       "                            \n",
       "var gd = document.getElementById('dce77d3a-72b8-44b5-9012-ec99057defbc');\n",
       "var x = new MutationObserver(function (mutations, observer) {{\n",
       "        var display = window.getComputedStyle(gd).display;\n",
       "        if (!display || display === 'none') {{\n",
       "            console.log([gd, 'removed!']);\n",
       "            Plotly.purge(gd);\n",
       "            observer.disconnect();\n",
       "        }}\n",
       "}});\n",
       "\n",
       "// Listen for the removal of the full notebook cells\n",
       "var notebookContainer = gd.closest('#notebook-container');\n",
       "if (notebookContainer) {{\n",
       "    x.observe(notebookContainer, {childList: true});\n",
       "}}\n",
       "\n",
       "// Listen for the clearing of the current output cell\n",
       "var outputEl = gd.closest('.output');\n",
       "if (outputEl) {{\n",
       "    x.observe(outputEl, {childList: true});\n",
       "}}\n",
       "\n",
       "                        })                };                });            </script>        </div>"
      ]
     },
     "metadata": {},
     "output_type": "display_data"
    }
   ],
   "source": [
    "def plot_raw_data(data):\n",
    "    # make a dummy time data\n",
    "\n",
    "    x_values = pd.date_range(start=pd.Timestamp('2018-01-01'), end=pd.Timestamp('2019-01-01'), freq='1 D')\n",
    "\n",
    "    # making a random time series\n",
    "    y_values = np.random.randn(len(x_values))\n",
    "\n",
    "    # making color list\n",
    "    # red if the day is saturday or sunday else green\n",
    "\n",
    "    colors = ['red' if int(pd.Timestamp(d).weekday()) >= 5 else 'green' for d in x_values]\n",
    "    fig = go.Figure()\n",
    "    for val in data:\n",
    "        fig.add_trace(go.Scatter(x=df_average_gender['Date'], \n",
    "                                 y=df_average_gender[val], \n",
    "                                 name=val,\n",
    "                                mode='lines+markers',\n",
    "                                  marker=dict(\n",
    "        color = colors\n",
    "    )\n",
    "    )),\n",
    "        fig.layout.update(title_text='Average customer daily purchasing based on Gender, green marker represent weekday and red marker represent weekend', hovermode='x')\n",
    "    fig.show()\n",
    "\n",
    "plot_raw_data(['Female','Male'])"
   ]
  },
  {
   "cell_type": "markdown",
   "id": "01c01545",
   "metadata": {},
   "source": [
    "## function to create pie chart"
   ]
  },
  {
   "cell_type": "code",
   "execution_count": 236,
   "id": "18e30a22",
   "metadata": {},
   "outputs": [],
   "source": [
    "import plotly.express as px\n",
    "\n",
    "def pie_chart(val):\n",
    "    data_pie =  df.groupby([val])['Invoice ID'].count().reset_index().rename(columns = {'Invoice ID':'Total'})\n",
    "    fig = px.pie(data_pie, values='Total', \n",
    "                 names=val, color=val, \n",
    "                 color_discrete_sequence=px.colors.sequential.Teal)\n",
    "    fig.show()"
   ]
  },
  {
   "cell_type": "markdown",
   "id": "8987fa4b",
   "metadata": {},
   "source": [
    "##### Bagaimana prosentase sebaran kategori produk yang dibeli oleh customer"
   ]
  },
  {
   "cell_type": "code",
   "execution_count": 240,
   "id": "3a25e9da",
   "metadata": {},
   "outputs": [
    {
     "data": {
      "application/vnd.plotly.v1+json": {
       "config": {
        "plotlyServerURL": "https://plot.ly"
       },
       "data": [
        {
         "customdata": [
          [
           "Electronic accessories"
          ],
          [
           "Fashion accessories"
          ],
          [
           "Food and beverages"
          ],
          [
           "Health and beauty"
          ],
          [
           "Home and lifestyle"
          ],
          [
           "Sports and travel"
          ]
         ],
         "domain": {
          "x": [
           0,
           1
          ],
          "y": [
           0,
           1
          ]
         },
         "hovertemplate": "Product Category=%{customdata[0]}<br>Total=%{value}<extra></extra>",
         "labels": [
          "Electronic accessories",
          "Fashion accessories",
          "Food and beverages",
          "Health and beauty",
          "Home and lifestyle",
          "Sports and travel"
         ],
         "legendgroup": "",
         "marker": {
          "colors": [
           "rgb(209, 238, 234)",
           "rgb(168, 219, 217)",
           "rgb(133, 196, 201)",
           "rgb(104, 171, 184)",
           "rgb(79, 144, 166)",
           "rgb(59, 115, 143)"
          ]
         },
         "name": "",
         "showlegend": true,
         "type": "pie",
         "values": [
          170,
          178,
          174,
          152,
          160,
          166
         ]
        }
       ],
       "layout": {
        "legend": {
         "tracegroupgap": 0
        },
        "margin": {
         "t": 60
        },
        "piecolorway": [
         "rgb(209, 238, 234)",
         "rgb(168, 219, 217)",
         "rgb(133, 196, 201)",
         "rgb(104, 171, 184)",
         "rgb(79, 144, 166)",
         "rgb(59, 115, 143)",
         "rgb(42, 86, 116)"
        ],
        "template": {
         "data": {
          "bar": [
           {
            "error_x": {
             "color": "#2a3f5f"
            },
            "error_y": {
             "color": "#2a3f5f"
            },
            "marker": {
             "line": {
              "color": "#E5ECF6",
              "width": 0.5
             },
             "pattern": {
              "fillmode": "overlay",
              "size": 10,
              "solidity": 0.2
             }
            },
            "type": "bar"
           }
          ],
          "barpolar": [
           {
            "marker": {
             "line": {
              "color": "#E5ECF6",
              "width": 0.5
             },
             "pattern": {
              "fillmode": "overlay",
              "size": 10,
              "solidity": 0.2
             }
            },
            "type": "barpolar"
           }
          ],
          "carpet": [
           {
            "aaxis": {
             "endlinecolor": "#2a3f5f",
             "gridcolor": "white",
             "linecolor": "white",
             "minorgridcolor": "white",
             "startlinecolor": "#2a3f5f"
            },
            "baxis": {
             "endlinecolor": "#2a3f5f",
             "gridcolor": "white",
             "linecolor": "white",
             "minorgridcolor": "white",
             "startlinecolor": "#2a3f5f"
            },
            "type": "carpet"
           }
          ],
          "choropleth": [
           {
            "colorbar": {
             "outlinewidth": 0,
             "ticks": ""
            },
            "type": "choropleth"
           }
          ],
          "contour": [
           {
            "colorbar": {
             "outlinewidth": 0,
             "ticks": ""
            },
            "colorscale": [
             [
              0,
              "#0d0887"
             ],
             [
              0.1111111111111111,
              "#46039f"
             ],
             [
              0.2222222222222222,
              "#7201a8"
             ],
             [
              0.3333333333333333,
              "#9c179e"
             ],
             [
              0.4444444444444444,
              "#bd3786"
             ],
             [
              0.5555555555555556,
              "#d8576b"
             ],
             [
              0.6666666666666666,
              "#ed7953"
             ],
             [
              0.7777777777777778,
              "#fb9f3a"
             ],
             [
              0.8888888888888888,
              "#fdca26"
             ],
             [
              1,
              "#f0f921"
             ]
            ],
            "type": "contour"
           }
          ],
          "contourcarpet": [
           {
            "colorbar": {
             "outlinewidth": 0,
             "ticks": ""
            },
            "type": "contourcarpet"
           }
          ],
          "heatmap": [
           {
            "colorbar": {
             "outlinewidth": 0,
             "ticks": ""
            },
            "colorscale": [
             [
              0,
              "#0d0887"
             ],
             [
              0.1111111111111111,
              "#46039f"
             ],
             [
              0.2222222222222222,
              "#7201a8"
             ],
             [
              0.3333333333333333,
              "#9c179e"
             ],
             [
              0.4444444444444444,
              "#bd3786"
             ],
             [
              0.5555555555555556,
              "#d8576b"
             ],
             [
              0.6666666666666666,
              "#ed7953"
             ],
             [
              0.7777777777777778,
              "#fb9f3a"
             ],
             [
              0.8888888888888888,
              "#fdca26"
             ],
             [
              1,
              "#f0f921"
             ]
            ],
            "type": "heatmap"
           }
          ],
          "heatmapgl": [
           {
            "colorbar": {
             "outlinewidth": 0,
             "ticks": ""
            },
            "colorscale": [
             [
              0,
              "#0d0887"
             ],
             [
              0.1111111111111111,
              "#46039f"
             ],
             [
              0.2222222222222222,
              "#7201a8"
             ],
             [
              0.3333333333333333,
              "#9c179e"
             ],
             [
              0.4444444444444444,
              "#bd3786"
             ],
             [
              0.5555555555555556,
              "#d8576b"
             ],
             [
              0.6666666666666666,
              "#ed7953"
             ],
             [
              0.7777777777777778,
              "#fb9f3a"
             ],
             [
              0.8888888888888888,
              "#fdca26"
             ],
             [
              1,
              "#f0f921"
             ]
            ],
            "type": "heatmapgl"
           }
          ],
          "histogram": [
           {
            "marker": {
             "pattern": {
              "fillmode": "overlay",
              "size": 10,
              "solidity": 0.2
             }
            },
            "type": "histogram"
           }
          ],
          "histogram2d": [
           {
            "colorbar": {
             "outlinewidth": 0,
             "ticks": ""
            },
            "colorscale": [
             [
              0,
              "#0d0887"
             ],
             [
              0.1111111111111111,
              "#46039f"
             ],
             [
              0.2222222222222222,
              "#7201a8"
             ],
             [
              0.3333333333333333,
              "#9c179e"
             ],
             [
              0.4444444444444444,
              "#bd3786"
             ],
             [
              0.5555555555555556,
              "#d8576b"
             ],
             [
              0.6666666666666666,
              "#ed7953"
             ],
             [
              0.7777777777777778,
              "#fb9f3a"
             ],
             [
              0.8888888888888888,
              "#fdca26"
             ],
             [
              1,
              "#f0f921"
             ]
            ],
            "type": "histogram2d"
           }
          ],
          "histogram2dcontour": [
           {
            "colorbar": {
             "outlinewidth": 0,
             "ticks": ""
            },
            "colorscale": [
             [
              0,
              "#0d0887"
             ],
             [
              0.1111111111111111,
              "#46039f"
             ],
             [
              0.2222222222222222,
              "#7201a8"
             ],
             [
              0.3333333333333333,
              "#9c179e"
             ],
             [
              0.4444444444444444,
              "#bd3786"
             ],
             [
              0.5555555555555556,
              "#d8576b"
             ],
             [
              0.6666666666666666,
              "#ed7953"
             ],
             [
              0.7777777777777778,
              "#fb9f3a"
             ],
             [
              0.8888888888888888,
              "#fdca26"
             ],
             [
              1,
              "#f0f921"
             ]
            ],
            "type": "histogram2dcontour"
           }
          ],
          "mesh3d": [
           {
            "colorbar": {
             "outlinewidth": 0,
             "ticks": ""
            },
            "type": "mesh3d"
           }
          ],
          "parcoords": [
           {
            "line": {
             "colorbar": {
              "outlinewidth": 0,
              "ticks": ""
             }
            },
            "type": "parcoords"
           }
          ],
          "pie": [
           {
            "automargin": true,
            "type": "pie"
           }
          ],
          "scatter": [
           {
            "marker": {
             "colorbar": {
              "outlinewidth": 0,
              "ticks": ""
             }
            },
            "type": "scatter"
           }
          ],
          "scatter3d": [
           {
            "line": {
             "colorbar": {
              "outlinewidth": 0,
              "ticks": ""
             }
            },
            "marker": {
             "colorbar": {
              "outlinewidth": 0,
              "ticks": ""
             }
            },
            "type": "scatter3d"
           }
          ],
          "scattercarpet": [
           {
            "marker": {
             "colorbar": {
              "outlinewidth": 0,
              "ticks": ""
             }
            },
            "type": "scattercarpet"
           }
          ],
          "scattergeo": [
           {
            "marker": {
             "colorbar": {
              "outlinewidth": 0,
              "ticks": ""
             }
            },
            "type": "scattergeo"
           }
          ],
          "scattergl": [
           {
            "marker": {
             "colorbar": {
              "outlinewidth": 0,
              "ticks": ""
             }
            },
            "type": "scattergl"
           }
          ],
          "scattermapbox": [
           {
            "marker": {
             "colorbar": {
              "outlinewidth": 0,
              "ticks": ""
             }
            },
            "type": "scattermapbox"
           }
          ],
          "scatterpolar": [
           {
            "marker": {
             "colorbar": {
              "outlinewidth": 0,
              "ticks": ""
             }
            },
            "type": "scatterpolar"
           }
          ],
          "scatterpolargl": [
           {
            "marker": {
             "colorbar": {
              "outlinewidth": 0,
              "ticks": ""
             }
            },
            "type": "scatterpolargl"
           }
          ],
          "scatterternary": [
           {
            "marker": {
             "colorbar": {
              "outlinewidth": 0,
              "ticks": ""
             }
            },
            "type": "scatterternary"
           }
          ],
          "surface": [
           {
            "colorbar": {
             "outlinewidth": 0,
             "ticks": ""
            },
            "colorscale": [
             [
              0,
              "#0d0887"
             ],
             [
              0.1111111111111111,
              "#46039f"
             ],
             [
              0.2222222222222222,
              "#7201a8"
             ],
             [
              0.3333333333333333,
              "#9c179e"
             ],
             [
              0.4444444444444444,
              "#bd3786"
             ],
             [
              0.5555555555555556,
              "#d8576b"
             ],
             [
              0.6666666666666666,
              "#ed7953"
             ],
             [
              0.7777777777777778,
              "#fb9f3a"
             ],
             [
              0.8888888888888888,
              "#fdca26"
             ],
             [
              1,
              "#f0f921"
             ]
            ],
            "type": "surface"
           }
          ],
          "table": [
           {
            "cells": {
             "fill": {
              "color": "#EBF0F8"
             },
             "line": {
              "color": "white"
             }
            },
            "header": {
             "fill": {
              "color": "#C8D4E3"
             },
             "line": {
              "color": "white"
             }
            },
            "type": "table"
           }
          ]
         },
         "layout": {
          "annotationdefaults": {
           "arrowcolor": "#2a3f5f",
           "arrowhead": 0,
           "arrowwidth": 1
          },
          "autotypenumbers": "strict",
          "coloraxis": {
           "colorbar": {
            "outlinewidth": 0,
            "ticks": ""
           }
          },
          "colorscale": {
           "diverging": [
            [
             0,
             "#8e0152"
            ],
            [
             0.1,
             "#c51b7d"
            ],
            [
             0.2,
             "#de77ae"
            ],
            [
             0.3,
             "#f1b6da"
            ],
            [
             0.4,
             "#fde0ef"
            ],
            [
             0.5,
             "#f7f7f7"
            ],
            [
             0.6,
             "#e6f5d0"
            ],
            [
             0.7,
             "#b8e186"
            ],
            [
             0.8,
             "#7fbc41"
            ],
            [
             0.9,
             "#4d9221"
            ],
            [
             1,
             "#276419"
            ]
           ],
           "sequential": [
            [
             0,
             "#0d0887"
            ],
            [
             0.1111111111111111,
             "#46039f"
            ],
            [
             0.2222222222222222,
             "#7201a8"
            ],
            [
             0.3333333333333333,
             "#9c179e"
            ],
            [
             0.4444444444444444,
             "#bd3786"
            ],
            [
             0.5555555555555556,
             "#d8576b"
            ],
            [
             0.6666666666666666,
             "#ed7953"
            ],
            [
             0.7777777777777778,
             "#fb9f3a"
            ],
            [
             0.8888888888888888,
             "#fdca26"
            ],
            [
             1,
             "#f0f921"
            ]
           ],
           "sequentialminus": [
            [
             0,
             "#0d0887"
            ],
            [
             0.1111111111111111,
             "#46039f"
            ],
            [
             0.2222222222222222,
             "#7201a8"
            ],
            [
             0.3333333333333333,
             "#9c179e"
            ],
            [
             0.4444444444444444,
             "#bd3786"
            ],
            [
             0.5555555555555556,
             "#d8576b"
            ],
            [
             0.6666666666666666,
             "#ed7953"
            ],
            [
             0.7777777777777778,
             "#fb9f3a"
            ],
            [
             0.8888888888888888,
             "#fdca26"
            ],
            [
             1,
             "#f0f921"
            ]
           ]
          },
          "colorway": [
           "#636efa",
           "#EF553B",
           "#00cc96",
           "#ab63fa",
           "#FFA15A",
           "#19d3f3",
           "#FF6692",
           "#B6E880",
           "#FF97FF",
           "#FECB52"
          ],
          "font": {
           "color": "#2a3f5f"
          },
          "geo": {
           "bgcolor": "white",
           "lakecolor": "white",
           "landcolor": "#E5ECF6",
           "showlakes": true,
           "showland": true,
           "subunitcolor": "white"
          },
          "hoverlabel": {
           "align": "left"
          },
          "hovermode": "closest",
          "mapbox": {
           "style": "light"
          },
          "paper_bgcolor": "white",
          "plot_bgcolor": "#E5ECF6",
          "polar": {
           "angularaxis": {
            "gridcolor": "white",
            "linecolor": "white",
            "ticks": ""
           },
           "bgcolor": "#E5ECF6",
           "radialaxis": {
            "gridcolor": "white",
            "linecolor": "white",
            "ticks": ""
           }
          },
          "scene": {
           "xaxis": {
            "backgroundcolor": "#E5ECF6",
            "gridcolor": "white",
            "gridwidth": 2,
            "linecolor": "white",
            "showbackground": true,
            "ticks": "",
            "zerolinecolor": "white"
           },
           "yaxis": {
            "backgroundcolor": "#E5ECF6",
            "gridcolor": "white",
            "gridwidth": 2,
            "linecolor": "white",
            "showbackground": true,
            "ticks": "",
            "zerolinecolor": "white"
           },
           "zaxis": {
            "backgroundcolor": "#E5ECF6",
            "gridcolor": "white",
            "gridwidth": 2,
            "linecolor": "white",
            "showbackground": true,
            "ticks": "",
            "zerolinecolor": "white"
           }
          },
          "shapedefaults": {
           "line": {
            "color": "#2a3f5f"
           }
          },
          "ternary": {
           "aaxis": {
            "gridcolor": "white",
            "linecolor": "white",
            "ticks": ""
           },
           "baxis": {
            "gridcolor": "white",
            "linecolor": "white",
            "ticks": ""
           },
           "bgcolor": "#E5ECF6",
           "caxis": {
            "gridcolor": "white",
            "linecolor": "white",
            "ticks": ""
           }
          },
          "title": {
           "x": 0.05
          },
          "xaxis": {
           "automargin": true,
           "gridcolor": "white",
           "linecolor": "white",
           "ticks": "",
           "title": {
            "standoff": 15
           },
           "zerolinecolor": "white",
           "zerolinewidth": 2
          },
          "yaxis": {
           "automargin": true,
           "gridcolor": "white",
           "linecolor": "white",
           "ticks": "",
           "title": {
            "standoff": 15
           },
           "zerolinecolor": "white",
           "zerolinewidth": 2
          }
         }
        }
       }
      },
      "text/html": [
       "<div>                            <div id=\"ce9d22e2-27a3-4f7d-88ad-f2cffb826130\" class=\"plotly-graph-div\" style=\"height:525px; width:100%;\"></div>            <script type=\"text/javascript\">                require([\"plotly\"], function(Plotly) {                    window.PLOTLYENV=window.PLOTLYENV || {};                                    if (document.getElementById(\"ce9d22e2-27a3-4f7d-88ad-f2cffb826130\")) {                    Plotly.newPlot(                        \"ce9d22e2-27a3-4f7d-88ad-f2cffb826130\",                        [{\"customdata\":[[\"Electronic accessories\"],[\"Fashion accessories\"],[\"Food and beverages\"],[\"Health and beauty\"],[\"Home and lifestyle\"],[\"Sports and travel\"]],\"domain\":{\"x\":[0.0,1.0],\"y\":[0.0,1.0]},\"hovertemplate\":\"Product Category=%{customdata[0]}<br>Total=%{value}<extra></extra>\",\"labels\":[\"Electronic accessories\",\"Fashion accessories\",\"Food and beverages\",\"Health and beauty\",\"Home and lifestyle\",\"Sports and travel\"],\"legendgroup\":\"\",\"marker\":{\"colors\":[\"rgb(209, 238, 234)\",\"rgb(168, 219, 217)\",\"rgb(133, 196, 201)\",\"rgb(104, 171, 184)\",\"rgb(79, 144, 166)\",\"rgb(59, 115, 143)\"]},\"name\":\"\",\"showlegend\":true,\"type\":\"pie\",\"values\":[170,178,174,152,160,166]}],                        {\"legend\":{\"tracegroupgap\":0},\"margin\":{\"t\":60},\"piecolorway\":[\"rgb(209, 238, 234)\",\"rgb(168, 219, 217)\",\"rgb(133, 196, 201)\",\"rgb(104, 171, 184)\",\"rgb(79, 144, 166)\",\"rgb(59, 115, 143)\",\"rgb(42, 86, 116)\"],\"template\":{\"data\":{\"bar\":[{\"error_x\":{\"color\":\"#2a3f5f\"},\"error_y\":{\"color\":\"#2a3f5f\"},\"marker\":{\"line\":{\"color\":\"#E5ECF6\",\"width\":0.5},\"pattern\":{\"fillmode\":\"overlay\",\"size\":10,\"solidity\":0.2}},\"type\":\"bar\"}],\"barpolar\":[{\"marker\":{\"line\":{\"color\":\"#E5ECF6\",\"width\":0.5},\"pattern\":{\"fillmode\":\"overlay\",\"size\":10,\"solidity\":0.2}},\"type\":\"barpolar\"}],\"carpet\":[{\"aaxis\":{\"endlinecolor\":\"#2a3f5f\",\"gridcolor\":\"white\",\"linecolor\":\"white\",\"minorgridcolor\":\"white\",\"startlinecolor\":\"#2a3f5f\"},\"baxis\":{\"endlinecolor\":\"#2a3f5f\",\"gridcolor\":\"white\",\"linecolor\":\"white\",\"minorgridcolor\":\"white\",\"startlinecolor\":\"#2a3f5f\"},\"type\":\"carpet\"}],\"choropleth\":[{\"colorbar\":{\"outlinewidth\":0,\"ticks\":\"\"},\"type\":\"choropleth\"}],\"contour\":[{\"colorbar\":{\"outlinewidth\":0,\"ticks\":\"\"},\"colorscale\":[[0.0,\"#0d0887\"],[0.1111111111111111,\"#46039f\"],[0.2222222222222222,\"#7201a8\"],[0.3333333333333333,\"#9c179e\"],[0.4444444444444444,\"#bd3786\"],[0.5555555555555556,\"#d8576b\"],[0.6666666666666666,\"#ed7953\"],[0.7777777777777778,\"#fb9f3a\"],[0.8888888888888888,\"#fdca26\"],[1.0,\"#f0f921\"]],\"type\":\"contour\"}],\"contourcarpet\":[{\"colorbar\":{\"outlinewidth\":0,\"ticks\":\"\"},\"type\":\"contourcarpet\"}],\"heatmap\":[{\"colorbar\":{\"outlinewidth\":0,\"ticks\":\"\"},\"colorscale\":[[0.0,\"#0d0887\"],[0.1111111111111111,\"#46039f\"],[0.2222222222222222,\"#7201a8\"],[0.3333333333333333,\"#9c179e\"],[0.4444444444444444,\"#bd3786\"],[0.5555555555555556,\"#d8576b\"],[0.6666666666666666,\"#ed7953\"],[0.7777777777777778,\"#fb9f3a\"],[0.8888888888888888,\"#fdca26\"],[1.0,\"#f0f921\"]],\"type\":\"heatmap\"}],\"heatmapgl\":[{\"colorbar\":{\"outlinewidth\":0,\"ticks\":\"\"},\"colorscale\":[[0.0,\"#0d0887\"],[0.1111111111111111,\"#46039f\"],[0.2222222222222222,\"#7201a8\"],[0.3333333333333333,\"#9c179e\"],[0.4444444444444444,\"#bd3786\"],[0.5555555555555556,\"#d8576b\"],[0.6666666666666666,\"#ed7953\"],[0.7777777777777778,\"#fb9f3a\"],[0.8888888888888888,\"#fdca26\"],[1.0,\"#f0f921\"]],\"type\":\"heatmapgl\"}],\"histogram\":[{\"marker\":{\"pattern\":{\"fillmode\":\"overlay\",\"size\":10,\"solidity\":0.2}},\"type\":\"histogram\"}],\"histogram2d\":[{\"colorbar\":{\"outlinewidth\":0,\"ticks\":\"\"},\"colorscale\":[[0.0,\"#0d0887\"],[0.1111111111111111,\"#46039f\"],[0.2222222222222222,\"#7201a8\"],[0.3333333333333333,\"#9c179e\"],[0.4444444444444444,\"#bd3786\"],[0.5555555555555556,\"#d8576b\"],[0.6666666666666666,\"#ed7953\"],[0.7777777777777778,\"#fb9f3a\"],[0.8888888888888888,\"#fdca26\"],[1.0,\"#f0f921\"]],\"type\":\"histogram2d\"}],\"histogram2dcontour\":[{\"colorbar\":{\"outlinewidth\":0,\"ticks\":\"\"},\"colorscale\":[[0.0,\"#0d0887\"],[0.1111111111111111,\"#46039f\"],[0.2222222222222222,\"#7201a8\"],[0.3333333333333333,\"#9c179e\"],[0.4444444444444444,\"#bd3786\"],[0.5555555555555556,\"#d8576b\"],[0.6666666666666666,\"#ed7953\"],[0.7777777777777778,\"#fb9f3a\"],[0.8888888888888888,\"#fdca26\"],[1.0,\"#f0f921\"]],\"type\":\"histogram2dcontour\"}],\"mesh3d\":[{\"colorbar\":{\"outlinewidth\":0,\"ticks\":\"\"},\"type\":\"mesh3d\"}],\"parcoords\":[{\"line\":{\"colorbar\":{\"outlinewidth\":0,\"ticks\":\"\"}},\"type\":\"parcoords\"}],\"pie\":[{\"automargin\":true,\"type\":\"pie\"}],\"scatter\":[{\"marker\":{\"colorbar\":{\"outlinewidth\":0,\"ticks\":\"\"}},\"type\":\"scatter\"}],\"scatter3d\":[{\"line\":{\"colorbar\":{\"outlinewidth\":0,\"ticks\":\"\"}},\"marker\":{\"colorbar\":{\"outlinewidth\":0,\"ticks\":\"\"}},\"type\":\"scatter3d\"}],\"scattercarpet\":[{\"marker\":{\"colorbar\":{\"outlinewidth\":0,\"ticks\":\"\"}},\"type\":\"scattercarpet\"}],\"scattergeo\":[{\"marker\":{\"colorbar\":{\"outlinewidth\":0,\"ticks\":\"\"}},\"type\":\"scattergeo\"}],\"scattergl\":[{\"marker\":{\"colorbar\":{\"outlinewidth\":0,\"ticks\":\"\"}},\"type\":\"scattergl\"}],\"scattermapbox\":[{\"marker\":{\"colorbar\":{\"outlinewidth\":0,\"ticks\":\"\"}},\"type\":\"scattermapbox\"}],\"scatterpolar\":[{\"marker\":{\"colorbar\":{\"outlinewidth\":0,\"ticks\":\"\"}},\"type\":\"scatterpolar\"}],\"scatterpolargl\":[{\"marker\":{\"colorbar\":{\"outlinewidth\":0,\"ticks\":\"\"}},\"type\":\"scatterpolargl\"}],\"scatterternary\":[{\"marker\":{\"colorbar\":{\"outlinewidth\":0,\"ticks\":\"\"}},\"type\":\"scatterternary\"}],\"surface\":[{\"colorbar\":{\"outlinewidth\":0,\"ticks\":\"\"},\"colorscale\":[[0.0,\"#0d0887\"],[0.1111111111111111,\"#46039f\"],[0.2222222222222222,\"#7201a8\"],[0.3333333333333333,\"#9c179e\"],[0.4444444444444444,\"#bd3786\"],[0.5555555555555556,\"#d8576b\"],[0.6666666666666666,\"#ed7953\"],[0.7777777777777778,\"#fb9f3a\"],[0.8888888888888888,\"#fdca26\"],[1.0,\"#f0f921\"]],\"type\":\"surface\"}],\"table\":[{\"cells\":{\"fill\":{\"color\":\"#EBF0F8\"},\"line\":{\"color\":\"white\"}},\"header\":{\"fill\":{\"color\":\"#C8D4E3\"},\"line\":{\"color\":\"white\"}},\"type\":\"table\"}]},\"layout\":{\"annotationdefaults\":{\"arrowcolor\":\"#2a3f5f\",\"arrowhead\":0,\"arrowwidth\":1},\"autotypenumbers\":\"strict\",\"coloraxis\":{\"colorbar\":{\"outlinewidth\":0,\"ticks\":\"\"}},\"colorscale\":{\"diverging\":[[0,\"#8e0152\"],[0.1,\"#c51b7d\"],[0.2,\"#de77ae\"],[0.3,\"#f1b6da\"],[0.4,\"#fde0ef\"],[0.5,\"#f7f7f7\"],[0.6,\"#e6f5d0\"],[0.7,\"#b8e186\"],[0.8,\"#7fbc41\"],[0.9,\"#4d9221\"],[1,\"#276419\"]],\"sequential\":[[0.0,\"#0d0887\"],[0.1111111111111111,\"#46039f\"],[0.2222222222222222,\"#7201a8\"],[0.3333333333333333,\"#9c179e\"],[0.4444444444444444,\"#bd3786\"],[0.5555555555555556,\"#d8576b\"],[0.6666666666666666,\"#ed7953\"],[0.7777777777777778,\"#fb9f3a\"],[0.8888888888888888,\"#fdca26\"],[1.0,\"#f0f921\"]],\"sequentialminus\":[[0.0,\"#0d0887\"],[0.1111111111111111,\"#46039f\"],[0.2222222222222222,\"#7201a8\"],[0.3333333333333333,\"#9c179e\"],[0.4444444444444444,\"#bd3786\"],[0.5555555555555556,\"#d8576b\"],[0.6666666666666666,\"#ed7953\"],[0.7777777777777778,\"#fb9f3a\"],[0.8888888888888888,\"#fdca26\"],[1.0,\"#f0f921\"]]},\"colorway\":[\"#636efa\",\"#EF553B\",\"#00cc96\",\"#ab63fa\",\"#FFA15A\",\"#19d3f3\",\"#FF6692\",\"#B6E880\",\"#FF97FF\",\"#FECB52\"],\"font\":{\"color\":\"#2a3f5f\"},\"geo\":{\"bgcolor\":\"white\",\"lakecolor\":\"white\",\"landcolor\":\"#E5ECF6\",\"showlakes\":true,\"showland\":true,\"subunitcolor\":\"white\"},\"hoverlabel\":{\"align\":\"left\"},\"hovermode\":\"closest\",\"mapbox\":{\"style\":\"light\"},\"paper_bgcolor\":\"white\",\"plot_bgcolor\":\"#E5ECF6\",\"polar\":{\"angularaxis\":{\"gridcolor\":\"white\",\"linecolor\":\"white\",\"ticks\":\"\"},\"bgcolor\":\"#E5ECF6\",\"radialaxis\":{\"gridcolor\":\"white\",\"linecolor\":\"white\",\"ticks\":\"\"}},\"scene\":{\"xaxis\":{\"backgroundcolor\":\"#E5ECF6\",\"gridcolor\":\"white\",\"gridwidth\":2,\"linecolor\":\"white\",\"showbackground\":true,\"ticks\":\"\",\"zerolinecolor\":\"white\"},\"yaxis\":{\"backgroundcolor\":\"#E5ECF6\",\"gridcolor\":\"white\",\"gridwidth\":2,\"linecolor\":\"white\",\"showbackground\":true,\"ticks\":\"\",\"zerolinecolor\":\"white\"},\"zaxis\":{\"backgroundcolor\":\"#E5ECF6\",\"gridcolor\":\"white\",\"gridwidth\":2,\"linecolor\":\"white\",\"showbackground\":true,\"ticks\":\"\",\"zerolinecolor\":\"white\"}},\"shapedefaults\":{\"line\":{\"color\":\"#2a3f5f\"}},\"ternary\":{\"aaxis\":{\"gridcolor\":\"white\",\"linecolor\":\"white\",\"ticks\":\"\"},\"baxis\":{\"gridcolor\":\"white\",\"linecolor\":\"white\",\"ticks\":\"\"},\"bgcolor\":\"#E5ECF6\",\"caxis\":{\"gridcolor\":\"white\",\"linecolor\":\"white\",\"ticks\":\"\"}},\"title\":{\"x\":0.05},\"xaxis\":{\"automargin\":true,\"gridcolor\":\"white\",\"linecolor\":\"white\",\"ticks\":\"\",\"title\":{\"standoff\":15},\"zerolinecolor\":\"white\",\"zerolinewidth\":2},\"yaxis\":{\"automargin\":true,\"gridcolor\":\"white\",\"linecolor\":\"white\",\"ticks\":\"\",\"title\":{\"standoff\":15},\"zerolinecolor\":\"white\",\"zerolinewidth\":2}}}},                        {\"responsive\": true}                    ).then(function(){\n",
       "                            \n",
       "var gd = document.getElementById('ce9d22e2-27a3-4f7d-88ad-f2cffb826130');\n",
       "var x = new MutationObserver(function (mutations, observer) {{\n",
       "        var display = window.getComputedStyle(gd).display;\n",
       "        if (!display || display === 'none') {{\n",
       "            console.log([gd, 'removed!']);\n",
       "            Plotly.purge(gd);\n",
       "            observer.disconnect();\n",
       "        }}\n",
       "}});\n",
       "\n",
       "// Listen for the removal of the full notebook cells\n",
       "var notebookContainer = gd.closest('#notebook-container');\n",
       "if (notebookContainer) {{\n",
       "    x.observe(notebookContainer, {childList: true});\n",
       "}}\n",
       "\n",
       "// Listen for the clearing of the current output cell\n",
       "var outputEl = gd.closest('.output');\n",
       "if (outputEl) {{\n",
       "    x.observe(outputEl, {childList: true});\n",
       "}}\n",
       "\n",
       "                        })                };                });            </script>        </div>"
      ]
     },
     "metadata": {},
     "output_type": "display_data"
    }
   ],
   "source": [
    "pie_chart('Product Category')"
   ]
  },
  {
   "cell_type": "markdown",
   "id": "0db0e0b5",
   "metadata": {},
   "source": [
    "##### Bagaimana prosentase sebaran jenis pembayaran yang digunakan oleh customer"
   ]
  },
  {
   "cell_type": "code",
   "execution_count": 241,
   "id": "58e085bb",
   "metadata": {},
   "outputs": [
    {
     "data": {
      "application/vnd.plotly.v1+json": {
       "config": {
        "plotlyServerURL": "https://plot.ly"
       },
       "data": [
        {
         "customdata": [
          [
           "Cash"
          ],
          [
           "Credit card"
          ],
          [
           "Ewallet"
          ]
         ],
         "domain": {
          "x": [
           0,
           1
          ],
          "y": [
           0,
           1
          ]
         },
         "hovertemplate": "Payment=%{customdata[0]}<br>Total=%{value}<extra></extra>",
         "labels": [
          "Cash",
          "Credit card",
          "Ewallet"
         ],
         "legendgroup": "",
         "marker": {
          "colors": [
           "rgb(209, 238, 234)",
           "rgb(168, 219, 217)",
           "rgb(133, 196, 201)"
          ]
         },
         "name": "",
         "showlegend": true,
         "type": "pie",
         "values": [
          344,
          311,
          345
         ]
        }
       ],
       "layout": {
        "legend": {
         "tracegroupgap": 0
        },
        "margin": {
         "t": 60
        },
        "piecolorway": [
         "rgb(209, 238, 234)",
         "rgb(168, 219, 217)",
         "rgb(133, 196, 201)",
         "rgb(104, 171, 184)",
         "rgb(79, 144, 166)",
         "rgb(59, 115, 143)",
         "rgb(42, 86, 116)"
        ],
        "template": {
         "data": {
          "bar": [
           {
            "error_x": {
             "color": "#2a3f5f"
            },
            "error_y": {
             "color": "#2a3f5f"
            },
            "marker": {
             "line": {
              "color": "#E5ECF6",
              "width": 0.5
             },
             "pattern": {
              "fillmode": "overlay",
              "size": 10,
              "solidity": 0.2
             }
            },
            "type": "bar"
           }
          ],
          "barpolar": [
           {
            "marker": {
             "line": {
              "color": "#E5ECF6",
              "width": 0.5
             },
             "pattern": {
              "fillmode": "overlay",
              "size": 10,
              "solidity": 0.2
             }
            },
            "type": "barpolar"
           }
          ],
          "carpet": [
           {
            "aaxis": {
             "endlinecolor": "#2a3f5f",
             "gridcolor": "white",
             "linecolor": "white",
             "minorgridcolor": "white",
             "startlinecolor": "#2a3f5f"
            },
            "baxis": {
             "endlinecolor": "#2a3f5f",
             "gridcolor": "white",
             "linecolor": "white",
             "minorgridcolor": "white",
             "startlinecolor": "#2a3f5f"
            },
            "type": "carpet"
           }
          ],
          "choropleth": [
           {
            "colorbar": {
             "outlinewidth": 0,
             "ticks": ""
            },
            "type": "choropleth"
           }
          ],
          "contour": [
           {
            "colorbar": {
             "outlinewidth": 0,
             "ticks": ""
            },
            "colorscale": [
             [
              0,
              "#0d0887"
             ],
             [
              0.1111111111111111,
              "#46039f"
             ],
             [
              0.2222222222222222,
              "#7201a8"
             ],
             [
              0.3333333333333333,
              "#9c179e"
             ],
             [
              0.4444444444444444,
              "#bd3786"
             ],
             [
              0.5555555555555556,
              "#d8576b"
             ],
             [
              0.6666666666666666,
              "#ed7953"
             ],
             [
              0.7777777777777778,
              "#fb9f3a"
             ],
             [
              0.8888888888888888,
              "#fdca26"
             ],
             [
              1,
              "#f0f921"
             ]
            ],
            "type": "contour"
           }
          ],
          "contourcarpet": [
           {
            "colorbar": {
             "outlinewidth": 0,
             "ticks": ""
            },
            "type": "contourcarpet"
           }
          ],
          "heatmap": [
           {
            "colorbar": {
             "outlinewidth": 0,
             "ticks": ""
            },
            "colorscale": [
             [
              0,
              "#0d0887"
             ],
             [
              0.1111111111111111,
              "#46039f"
             ],
             [
              0.2222222222222222,
              "#7201a8"
             ],
             [
              0.3333333333333333,
              "#9c179e"
             ],
             [
              0.4444444444444444,
              "#bd3786"
             ],
             [
              0.5555555555555556,
              "#d8576b"
             ],
             [
              0.6666666666666666,
              "#ed7953"
             ],
             [
              0.7777777777777778,
              "#fb9f3a"
             ],
             [
              0.8888888888888888,
              "#fdca26"
             ],
             [
              1,
              "#f0f921"
             ]
            ],
            "type": "heatmap"
           }
          ],
          "heatmapgl": [
           {
            "colorbar": {
             "outlinewidth": 0,
             "ticks": ""
            },
            "colorscale": [
             [
              0,
              "#0d0887"
             ],
             [
              0.1111111111111111,
              "#46039f"
             ],
             [
              0.2222222222222222,
              "#7201a8"
             ],
             [
              0.3333333333333333,
              "#9c179e"
             ],
             [
              0.4444444444444444,
              "#bd3786"
             ],
             [
              0.5555555555555556,
              "#d8576b"
             ],
             [
              0.6666666666666666,
              "#ed7953"
             ],
             [
              0.7777777777777778,
              "#fb9f3a"
             ],
             [
              0.8888888888888888,
              "#fdca26"
             ],
             [
              1,
              "#f0f921"
             ]
            ],
            "type": "heatmapgl"
           }
          ],
          "histogram": [
           {
            "marker": {
             "pattern": {
              "fillmode": "overlay",
              "size": 10,
              "solidity": 0.2
             }
            },
            "type": "histogram"
           }
          ],
          "histogram2d": [
           {
            "colorbar": {
             "outlinewidth": 0,
             "ticks": ""
            },
            "colorscale": [
             [
              0,
              "#0d0887"
             ],
             [
              0.1111111111111111,
              "#46039f"
             ],
             [
              0.2222222222222222,
              "#7201a8"
             ],
             [
              0.3333333333333333,
              "#9c179e"
             ],
             [
              0.4444444444444444,
              "#bd3786"
             ],
             [
              0.5555555555555556,
              "#d8576b"
             ],
             [
              0.6666666666666666,
              "#ed7953"
             ],
             [
              0.7777777777777778,
              "#fb9f3a"
             ],
             [
              0.8888888888888888,
              "#fdca26"
             ],
             [
              1,
              "#f0f921"
             ]
            ],
            "type": "histogram2d"
           }
          ],
          "histogram2dcontour": [
           {
            "colorbar": {
             "outlinewidth": 0,
             "ticks": ""
            },
            "colorscale": [
             [
              0,
              "#0d0887"
             ],
             [
              0.1111111111111111,
              "#46039f"
             ],
             [
              0.2222222222222222,
              "#7201a8"
             ],
             [
              0.3333333333333333,
              "#9c179e"
             ],
             [
              0.4444444444444444,
              "#bd3786"
             ],
             [
              0.5555555555555556,
              "#d8576b"
             ],
             [
              0.6666666666666666,
              "#ed7953"
             ],
             [
              0.7777777777777778,
              "#fb9f3a"
             ],
             [
              0.8888888888888888,
              "#fdca26"
             ],
             [
              1,
              "#f0f921"
             ]
            ],
            "type": "histogram2dcontour"
           }
          ],
          "mesh3d": [
           {
            "colorbar": {
             "outlinewidth": 0,
             "ticks": ""
            },
            "type": "mesh3d"
           }
          ],
          "parcoords": [
           {
            "line": {
             "colorbar": {
              "outlinewidth": 0,
              "ticks": ""
             }
            },
            "type": "parcoords"
           }
          ],
          "pie": [
           {
            "automargin": true,
            "type": "pie"
           }
          ],
          "scatter": [
           {
            "marker": {
             "colorbar": {
              "outlinewidth": 0,
              "ticks": ""
             }
            },
            "type": "scatter"
           }
          ],
          "scatter3d": [
           {
            "line": {
             "colorbar": {
              "outlinewidth": 0,
              "ticks": ""
             }
            },
            "marker": {
             "colorbar": {
              "outlinewidth": 0,
              "ticks": ""
             }
            },
            "type": "scatter3d"
           }
          ],
          "scattercarpet": [
           {
            "marker": {
             "colorbar": {
              "outlinewidth": 0,
              "ticks": ""
             }
            },
            "type": "scattercarpet"
           }
          ],
          "scattergeo": [
           {
            "marker": {
             "colorbar": {
              "outlinewidth": 0,
              "ticks": ""
             }
            },
            "type": "scattergeo"
           }
          ],
          "scattergl": [
           {
            "marker": {
             "colorbar": {
              "outlinewidth": 0,
              "ticks": ""
             }
            },
            "type": "scattergl"
           }
          ],
          "scattermapbox": [
           {
            "marker": {
             "colorbar": {
              "outlinewidth": 0,
              "ticks": ""
             }
            },
            "type": "scattermapbox"
           }
          ],
          "scatterpolar": [
           {
            "marker": {
             "colorbar": {
              "outlinewidth": 0,
              "ticks": ""
             }
            },
            "type": "scatterpolar"
           }
          ],
          "scatterpolargl": [
           {
            "marker": {
             "colorbar": {
              "outlinewidth": 0,
              "ticks": ""
             }
            },
            "type": "scatterpolargl"
           }
          ],
          "scatterternary": [
           {
            "marker": {
             "colorbar": {
              "outlinewidth": 0,
              "ticks": ""
             }
            },
            "type": "scatterternary"
           }
          ],
          "surface": [
           {
            "colorbar": {
             "outlinewidth": 0,
             "ticks": ""
            },
            "colorscale": [
             [
              0,
              "#0d0887"
             ],
             [
              0.1111111111111111,
              "#46039f"
             ],
             [
              0.2222222222222222,
              "#7201a8"
             ],
             [
              0.3333333333333333,
              "#9c179e"
             ],
             [
              0.4444444444444444,
              "#bd3786"
             ],
             [
              0.5555555555555556,
              "#d8576b"
             ],
             [
              0.6666666666666666,
              "#ed7953"
             ],
             [
              0.7777777777777778,
              "#fb9f3a"
             ],
             [
              0.8888888888888888,
              "#fdca26"
             ],
             [
              1,
              "#f0f921"
             ]
            ],
            "type": "surface"
           }
          ],
          "table": [
           {
            "cells": {
             "fill": {
              "color": "#EBF0F8"
             },
             "line": {
              "color": "white"
             }
            },
            "header": {
             "fill": {
              "color": "#C8D4E3"
             },
             "line": {
              "color": "white"
             }
            },
            "type": "table"
           }
          ]
         },
         "layout": {
          "annotationdefaults": {
           "arrowcolor": "#2a3f5f",
           "arrowhead": 0,
           "arrowwidth": 1
          },
          "autotypenumbers": "strict",
          "coloraxis": {
           "colorbar": {
            "outlinewidth": 0,
            "ticks": ""
           }
          },
          "colorscale": {
           "diverging": [
            [
             0,
             "#8e0152"
            ],
            [
             0.1,
             "#c51b7d"
            ],
            [
             0.2,
             "#de77ae"
            ],
            [
             0.3,
             "#f1b6da"
            ],
            [
             0.4,
             "#fde0ef"
            ],
            [
             0.5,
             "#f7f7f7"
            ],
            [
             0.6,
             "#e6f5d0"
            ],
            [
             0.7,
             "#b8e186"
            ],
            [
             0.8,
             "#7fbc41"
            ],
            [
             0.9,
             "#4d9221"
            ],
            [
             1,
             "#276419"
            ]
           ],
           "sequential": [
            [
             0,
             "#0d0887"
            ],
            [
             0.1111111111111111,
             "#46039f"
            ],
            [
             0.2222222222222222,
             "#7201a8"
            ],
            [
             0.3333333333333333,
             "#9c179e"
            ],
            [
             0.4444444444444444,
             "#bd3786"
            ],
            [
             0.5555555555555556,
             "#d8576b"
            ],
            [
             0.6666666666666666,
             "#ed7953"
            ],
            [
             0.7777777777777778,
             "#fb9f3a"
            ],
            [
             0.8888888888888888,
             "#fdca26"
            ],
            [
             1,
             "#f0f921"
            ]
           ],
           "sequentialminus": [
            [
             0,
             "#0d0887"
            ],
            [
             0.1111111111111111,
             "#46039f"
            ],
            [
             0.2222222222222222,
             "#7201a8"
            ],
            [
             0.3333333333333333,
             "#9c179e"
            ],
            [
             0.4444444444444444,
             "#bd3786"
            ],
            [
             0.5555555555555556,
             "#d8576b"
            ],
            [
             0.6666666666666666,
             "#ed7953"
            ],
            [
             0.7777777777777778,
             "#fb9f3a"
            ],
            [
             0.8888888888888888,
             "#fdca26"
            ],
            [
             1,
             "#f0f921"
            ]
           ]
          },
          "colorway": [
           "#636efa",
           "#EF553B",
           "#00cc96",
           "#ab63fa",
           "#FFA15A",
           "#19d3f3",
           "#FF6692",
           "#B6E880",
           "#FF97FF",
           "#FECB52"
          ],
          "font": {
           "color": "#2a3f5f"
          },
          "geo": {
           "bgcolor": "white",
           "lakecolor": "white",
           "landcolor": "#E5ECF6",
           "showlakes": true,
           "showland": true,
           "subunitcolor": "white"
          },
          "hoverlabel": {
           "align": "left"
          },
          "hovermode": "closest",
          "mapbox": {
           "style": "light"
          },
          "paper_bgcolor": "white",
          "plot_bgcolor": "#E5ECF6",
          "polar": {
           "angularaxis": {
            "gridcolor": "white",
            "linecolor": "white",
            "ticks": ""
           },
           "bgcolor": "#E5ECF6",
           "radialaxis": {
            "gridcolor": "white",
            "linecolor": "white",
            "ticks": ""
           }
          },
          "scene": {
           "xaxis": {
            "backgroundcolor": "#E5ECF6",
            "gridcolor": "white",
            "gridwidth": 2,
            "linecolor": "white",
            "showbackground": true,
            "ticks": "",
            "zerolinecolor": "white"
           },
           "yaxis": {
            "backgroundcolor": "#E5ECF6",
            "gridcolor": "white",
            "gridwidth": 2,
            "linecolor": "white",
            "showbackground": true,
            "ticks": "",
            "zerolinecolor": "white"
           },
           "zaxis": {
            "backgroundcolor": "#E5ECF6",
            "gridcolor": "white",
            "gridwidth": 2,
            "linecolor": "white",
            "showbackground": true,
            "ticks": "",
            "zerolinecolor": "white"
           }
          },
          "shapedefaults": {
           "line": {
            "color": "#2a3f5f"
           }
          },
          "ternary": {
           "aaxis": {
            "gridcolor": "white",
            "linecolor": "white",
            "ticks": ""
           },
           "baxis": {
            "gridcolor": "white",
            "linecolor": "white",
            "ticks": ""
           },
           "bgcolor": "#E5ECF6",
           "caxis": {
            "gridcolor": "white",
            "linecolor": "white",
            "ticks": ""
           }
          },
          "title": {
           "x": 0.05
          },
          "xaxis": {
           "automargin": true,
           "gridcolor": "white",
           "linecolor": "white",
           "ticks": "",
           "title": {
            "standoff": 15
           },
           "zerolinecolor": "white",
           "zerolinewidth": 2
          },
          "yaxis": {
           "automargin": true,
           "gridcolor": "white",
           "linecolor": "white",
           "ticks": "",
           "title": {
            "standoff": 15
           },
           "zerolinecolor": "white",
           "zerolinewidth": 2
          }
         }
        }
       }
      },
      "text/html": [
       "<div>                            <div id=\"a51a00f8-1c8c-49d6-a0ff-9fed2c631e4b\" class=\"plotly-graph-div\" style=\"height:525px; width:100%;\"></div>            <script type=\"text/javascript\">                require([\"plotly\"], function(Plotly) {                    window.PLOTLYENV=window.PLOTLYENV || {};                                    if (document.getElementById(\"a51a00f8-1c8c-49d6-a0ff-9fed2c631e4b\")) {                    Plotly.newPlot(                        \"a51a00f8-1c8c-49d6-a0ff-9fed2c631e4b\",                        [{\"customdata\":[[\"Cash\"],[\"Credit card\"],[\"Ewallet\"]],\"domain\":{\"x\":[0.0,1.0],\"y\":[0.0,1.0]},\"hovertemplate\":\"Payment=%{customdata[0]}<br>Total=%{value}<extra></extra>\",\"labels\":[\"Cash\",\"Credit card\",\"Ewallet\"],\"legendgroup\":\"\",\"marker\":{\"colors\":[\"rgb(209, 238, 234)\",\"rgb(168, 219, 217)\",\"rgb(133, 196, 201)\"]},\"name\":\"\",\"showlegend\":true,\"type\":\"pie\",\"values\":[344,311,345]}],                        {\"legend\":{\"tracegroupgap\":0},\"margin\":{\"t\":60},\"piecolorway\":[\"rgb(209, 238, 234)\",\"rgb(168, 219, 217)\",\"rgb(133, 196, 201)\",\"rgb(104, 171, 184)\",\"rgb(79, 144, 166)\",\"rgb(59, 115, 143)\",\"rgb(42, 86, 116)\"],\"template\":{\"data\":{\"bar\":[{\"error_x\":{\"color\":\"#2a3f5f\"},\"error_y\":{\"color\":\"#2a3f5f\"},\"marker\":{\"line\":{\"color\":\"#E5ECF6\",\"width\":0.5},\"pattern\":{\"fillmode\":\"overlay\",\"size\":10,\"solidity\":0.2}},\"type\":\"bar\"}],\"barpolar\":[{\"marker\":{\"line\":{\"color\":\"#E5ECF6\",\"width\":0.5},\"pattern\":{\"fillmode\":\"overlay\",\"size\":10,\"solidity\":0.2}},\"type\":\"barpolar\"}],\"carpet\":[{\"aaxis\":{\"endlinecolor\":\"#2a3f5f\",\"gridcolor\":\"white\",\"linecolor\":\"white\",\"minorgridcolor\":\"white\",\"startlinecolor\":\"#2a3f5f\"},\"baxis\":{\"endlinecolor\":\"#2a3f5f\",\"gridcolor\":\"white\",\"linecolor\":\"white\",\"minorgridcolor\":\"white\",\"startlinecolor\":\"#2a3f5f\"},\"type\":\"carpet\"}],\"choropleth\":[{\"colorbar\":{\"outlinewidth\":0,\"ticks\":\"\"},\"type\":\"choropleth\"}],\"contour\":[{\"colorbar\":{\"outlinewidth\":0,\"ticks\":\"\"},\"colorscale\":[[0.0,\"#0d0887\"],[0.1111111111111111,\"#46039f\"],[0.2222222222222222,\"#7201a8\"],[0.3333333333333333,\"#9c179e\"],[0.4444444444444444,\"#bd3786\"],[0.5555555555555556,\"#d8576b\"],[0.6666666666666666,\"#ed7953\"],[0.7777777777777778,\"#fb9f3a\"],[0.8888888888888888,\"#fdca26\"],[1.0,\"#f0f921\"]],\"type\":\"contour\"}],\"contourcarpet\":[{\"colorbar\":{\"outlinewidth\":0,\"ticks\":\"\"},\"type\":\"contourcarpet\"}],\"heatmap\":[{\"colorbar\":{\"outlinewidth\":0,\"ticks\":\"\"},\"colorscale\":[[0.0,\"#0d0887\"],[0.1111111111111111,\"#46039f\"],[0.2222222222222222,\"#7201a8\"],[0.3333333333333333,\"#9c179e\"],[0.4444444444444444,\"#bd3786\"],[0.5555555555555556,\"#d8576b\"],[0.6666666666666666,\"#ed7953\"],[0.7777777777777778,\"#fb9f3a\"],[0.8888888888888888,\"#fdca26\"],[1.0,\"#f0f921\"]],\"type\":\"heatmap\"}],\"heatmapgl\":[{\"colorbar\":{\"outlinewidth\":0,\"ticks\":\"\"},\"colorscale\":[[0.0,\"#0d0887\"],[0.1111111111111111,\"#46039f\"],[0.2222222222222222,\"#7201a8\"],[0.3333333333333333,\"#9c179e\"],[0.4444444444444444,\"#bd3786\"],[0.5555555555555556,\"#d8576b\"],[0.6666666666666666,\"#ed7953\"],[0.7777777777777778,\"#fb9f3a\"],[0.8888888888888888,\"#fdca26\"],[1.0,\"#f0f921\"]],\"type\":\"heatmapgl\"}],\"histogram\":[{\"marker\":{\"pattern\":{\"fillmode\":\"overlay\",\"size\":10,\"solidity\":0.2}},\"type\":\"histogram\"}],\"histogram2d\":[{\"colorbar\":{\"outlinewidth\":0,\"ticks\":\"\"},\"colorscale\":[[0.0,\"#0d0887\"],[0.1111111111111111,\"#46039f\"],[0.2222222222222222,\"#7201a8\"],[0.3333333333333333,\"#9c179e\"],[0.4444444444444444,\"#bd3786\"],[0.5555555555555556,\"#d8576b\"],[0.6666666666666666,\"#ed7953\"],[0.7777777777777778,\"#fb9f3a\"],[0.8888888888888888,\"#fdca26\"],[1.0,\"#f0f921\"]],\"type\":\"histogram2d\"}],\"histogram2dcontour\":[{\"colorbar\":{\"outlinewidth\":0,\"ticks\":\"\"},\"colorscale\":[[0.0,\"#0d0887\"],[0.1111111111111111,\"#46039f\"],[0.2222222222222222,\"#7201a8\"],[0.3333333333333333,\"#9c179e\"],[0.4444444444444444,\"#bd3786\"],[0.5555555555555556,\"#d8576b\"],[0.6666666666666666,\"#ed7953\"],[0.7777777777777778,\"#fb9f3a\"],[0.8888888888888888,\"#fdca26\"],[1.0,\"#f0f921\"]],\"type\":\"histogram2dcontour\"}],\"mesh3d\":[{\"colorbar\":{\"outlinewidth\":0,\"ticks\":\"\"},\"type\":\"mesh3d\"}],\"parcoords\":[{\"line\":{\"colorbar\":{\"outlinewidth\":0,\"ticks\":\"\"}},\"type\":\"parcoords\"}],\"pie\":[{\"automargin\":true,\"type\":\"pie\"}],\"scatter\":[{\"marker\":{\"colorbar\":{\"outlinewidth\":0,\"ticks\":\"\"}},\"type\":\"scatter\"}],\"scatter3d\":[{\"line\":{\"colorbar\":{\"outlinewidth\":0,\"ticks\":\"\"}},\"marker\":{\"colorbar\":{\"outlinewidth\":0,\"ticks\":\"\"}},\"type\":\"scatter3d\"}],\"scattercarpet\":[{\"marker\":{\"colorbar\":{\"outlinewidth\":0,\"ticks\":\"\"}},\"type\":\"scattercarpet\"}],\"scattergeo\":[{\"marker\":{\"colorbar\":{\"outlinewidth\":0,\"ticks\":\"\"}},\"type\":\"scattergeo\"}],\"scattergl\":[{\"marker\":{\"colorbar\":{\"outlinewidth\":0,\"ticks\":\"\"}},\"type\":\"scattergl\"}],\"scattermapbox\":[{\"marker\":{\"colorbar\":{\"outlinewidth\":0,\"ticks\":\"\"}},\"type\":\"scattermapbox\"}],\"scatterpolar\":[{\"marker\":{\"colorbar\":{\"outlinewidth\":0,\"ticks\":\"\"}},\"type\":\"scatterpolar\"}],\"scatterpolargl\":[{\"marker\":{\"colorbar\":{\"outlinewidth\":0,\"ticks\":\"\"}},\"type\":\"scatterpolargl\"}],\"scatterternary\":[{\"marker\":{\"colorbar\":{\"outlinewidth\":0,\"ticks\":\"\"}},\"type\":\"scatterternary\"}],\"surface\":[{\"colorbar\":{\"outlinewidth\":0,\"ticks\":\"\"},\"colorscale\":[[0.0,\"#0d0887\"],[0.1111111111111111,\"#46039f\"],[0.2222222222222222,\"#7201a8\"],[0.3333333333333333,\"#9c179e\"],[0.4444444444444444,\"#bd3786\"],[0.5555555555555556,\"#d8576b\"],[0.6666666666666666,\"#ed7953\"],[0.7777777777777778,\"#fb9f3a\"],[0.8888888888888888,\"#fdca26\"],[1.0,\"#f0f921\"]],\"type\":\"surface\"}],\"table\":[{\"cells\":{\"fill\":{\"color\":\"#EBF0F8\"},\"line\":{\"color\":\"white\"}},\"header\":{\"fill\":{\"color\":\"#C8D4E3\"},\"line\":{\"color\":\"white\"}},\"type\":\"table\"}]},\"layout\":{\"annotationdefaults\":{\"arrowcolor\":\"#2a3f5f\",\"arrowhead\":0,\"arrowwidth\":1},\"autotypenumbers\":\"strict\",\"coloraxis\":{\"colorbar\":{\"outlinewidth\":0,\"ticks\":\"\"}},\"colorscale\":{\"diverging\":[[0,\"#8e0152\"],[0.1,\"#c51b7d\"],[0.2,\"#de77ae\"],[0.3,\"#f1b6da\"],[0.4,\"#fde0ef\"],[0.5,\"#f7f7f7\"],[0.6,\"#e6f5d0\"],[0.7,\"#b8e186\"],[0.8,\"#7fbc41\"],[0.9,\"#4d9221\"],[1,\"#276419\"]],\"sequential\":[[0.0,\"#0d0887\"],[0.1111111111111111,\"#46039f\"],[0.2222222222222222,\"#7201a8\"],[0.3333333333333333,\"#9c179e\"],[0.4444444444444444,\"#bd3786\"],[0.5555555555555556,\"#d8576b\"],[0.6666666666666666,\"#ed7953\"],[0.7777777777777778,\"#fb9f3a\"],[0.8888888888888888,\"#fdca26\"],[1.0,\"#f0f921\"]],\"sequentialminus\":[[0.0,\"#0d0887\"],[0.1111111111111111,\"#46039f\"],[0.2222222222222222,\"#7201a8\"],[0.3333333333333333,\"#9c179e\"],[0.4444444444444444,\"#bd3786\"],[0.5555555555555556,\"#d8576b\"],[0.6666666666666666,\"#ed7953\"],[0.7777777777777778,\"#fb9f3a\"],[0.8888888888888888,\"#fdca26\"],[1.0,\"#f0f921\"]]},\"colorway\":[\"#636efa\",\"#EF553B\",\"#00cc96\",\"#ab63fa\",\"#FFA15A\",\"#19d3f3\",\"#FF6692\",\"#B6E880\",\"#FF97FF\",\"#FECB52\"],\"font\":{\"color\":\"#2a3f5f\"},\"geo\":{\"bgcolor\":\"white\",\"lakecolor\":\"white\",\"landcolor\":\"#E5ECF6\",\"showlakes\":true,\"showland\":true,\"subunitcolor\":\"white\"},\"hoverlabel\":{\"align\":\"left\"},\"hovermode\":\"closest\",\"mapbox\":{\"style\":\"light\"},\"paper_bgcolor\":\"white\",\"plot_bgcolor\":\"#E5ECF6\",\"polar\":{\"angularaxis\":{\"gridcolor\":\"white\",\"linecolor\":\"white\",\"ticks\":\"\"},\"bgcolor\":\"#E5ECF6\",\"radialaxis\":{\"gridcolor\":\"white\",\"linecolor\":\"white\",\"ticks\":\"\"}},\"scene\":{\"xaxis\":{\"backgroundcolor\":\"#E5ECF6\",\"gridcolor\":\"white\",\"gridwidth\":2,\"linecolor\":\"white\",\"showbackground\":true,\"ticks\":\"\",\"zerolinecolor\":\"white\"},\"yaxis\":{\"backgroundcolor\":\"#E5ECF6\",\"gridcolor\":\"white\",\"gridwidth\":2,\"linecolor\":\"white\",\"showbackground\":true,\"ticks\":\"\",\"zerolinecolor\":\"white\"},\"zaxis\":{\"backgroundcolor\":\"#E5ECF6\",\"gridcolor\":\"white\",\"gridwidth\":2,\"linecolor\":\"white\",\"showbackground\":true,\"ticks\":\"\",\"zerolinecolor\":\"white\"}},\"shapedefaults\":{\"line\":{\"color\":\"#2a3f5f\"}},\"ternary\":{\"aaxis\":{\"gridcolor\":\"white\",\"linecolor\":\"white\",\"ticks\":\"\"},\"baxis\":{\"gridcolor\":\"white\",\"linecolor\":\"white\",\"ticks\":\"\"},\"bgcolor\":\"#E5ECF6\",\"caxis\":{\"gridcolor\":\"white\",\"linecolor\":\"white\",\"ticks\":\"\"}},\"title\":{\"x\":0.05},\"xaxis\":{\"automargin\":true,\"gridcolor\":\"white\",\"linecolor\":\"white\",\"ticks\":\"\",\"title\":{\"standoff\":15},\"zerolinecolor\":\"white\",\"zerolinewidth\":2},\"yaxis\":{\"automargin\":true,\"gridcolor\":\"white\",\"linecolor\":\"white\",\"ticks\":\"\",\"title\":{\"standoff\":15},\"zerolinecolor\":\"white\",\"zerolinewidth\":2}}}},                        {\"responsive\": true}                    ).then(function(){\n",
       "                            \n",
       "var gd = document.getElementById('a51a00f8-1c8c-49d6-a0ff-9fed2c631e4b');\n",
       "var x = new MutationObserver(function (mutations, observer) {{\n",
       "        var display = window.getComputedStyle(gd).display;\n",
       "        if (!display || display === 'none') {{\n",
       "            console.log([gd, 'removed!']);\n",
       "            Plotly.purge(gd);\n",
       "            observer.disconnect();\n",
       "        }}\n",
       "}});\n",
       "\n",
       "// Listen for the removal of the full notebook cells\n",
       "var notebookContainer = gd.closest('#notebook-container');\n",
       "if (notebookContainer) {{\n",
       "    x.observe(notebookContainer, {childList: true});\n",
       "}}\n",
       "\n",
       "// Listen for the clearing of the current output cell\n",
       "var outputEl = gd.closest('.output');\n",
       "if (outputEl) {{\n",
       "    x.observe(outputEl, {childList: true});\n",
       "}}\n",
       "\n",
       "                        })                };                });            </script>        </div>"
      ]
     },
     "metadata": {},
     "output_type": "display_data"
    }
   ],
   "source": [
    "pie_chart('Payment')"
   ]
  },
  {
   "cell_type": "markdown",
   "id": "1d03ae78",
   "metadata": {},
   "source": [
    "## function to generate percentage by distribution"
   ]
  },
  {
   "cell_type": "code",
   "execution_count": 242,
   "id": "d4e63fa3",
   "metadata": {},
   "outputs": [],
   "source": [
    "def percentage_distribution(column, value, data1, data2):\n",
    "    #aggregate function to generate new dataframe\n",
    "    data_cg =  df.groupby([column,value]).size().unstack()\n",
    "    data_cg['sum'] = data_cg.sum(axis=1)\n",
    "    data_cg_ratio = (data_cg.T / data_cg['sum']).T[[data1, data2]][::-1]\n",
    "    \n",
    "    fig, ax = plt.subplots(1,1,figsize=(12, 6),)\n",
    "\n",
    "    ax.barh(data_cg_ratio.index, data_cg_ratio[data1], \n",
    "            color='#244247', alpha=0.7, label=data1)\n",
    "    ax.barh(data_cg_ratio.index, data_cg_ratio[data2], left=data_cg_ratio[data1], \n",
    "            color='#91b8bd', alpha=0.7, label=data2)\n",
    "\n",
    "\n",
    "    ax.set_xlim(0, 1)\n",
    "    ax.set_xticks([])\n",
    "    ax.set_yticklabels((data_cg_ratio.index), fontfamily='serif', fontsize=11)\n",
    "\n",
    "\n",
    "    # male percentage\n",
    "    for i in data_cg_ratio.index:\n",
    "        ax.annotate(f\"{data_cg_ratio[data1][i]*100:.3}%\", \n",
    "                       xy=(data_cg_ratio[data1][i]/2, i),\n",
    "                       va = 'center', ha='center',fontsize=12, fontweight='light', fontfamily='serif',\n",
    "                       color='white')\n",
    "\n",
    "    for i in data_cg_ratio.index:\n",
    "        ax.annotate(f\"{data_cg_ratio[data2][i]*100:.3}%\", \n",
    "                       xy=(data_cg_ratio[data1][i]+data_cg_ratio[data2][i]/2, i),\n",
    "                       va = 'center', ha='center',fontsize=12, fontweight='light', fontfamily='serif',\n",
    "                       color='#244247')\n",
    "\n",
    "    if column == 'Product Category':\n",
    "        fig.text(0.129, 0.98, 'Gender distribution by Product Category', fontsize=15, fontweight='bold', fontfamily='serif')   \n",
    "        fig.text(0.129, 0.9, \n",
    "                 '''\n",
    "        We find no significance difference between male and female in purchase every category,\n",
    "        But we find something interesting in category Health and Beauty, male more dominant than female?''' , fontsize=12,fontfamily='serif')  \n",
    "    if column == 'Payment':\n",
    "        fig.text(0.129, 0.98, 'Gender distribution by Payment', fontsize=15, fontweight='bold', fontfamily='serif')   \n",
    "        fig.text(0.129, 0.9, \n",
    "                 '''\n",
    "        We see that Male more prefer to use E-wallet than Females\n",
    "        ''' , fontsize=12,fontfamily='serif') \n",
    "\n",
    "    for s in ['top', 'left', 'right', 'bottom']:\n",
    "        ax.spines[s].set_visible(False)\n",
    "\n",
    "    ax.legend().set_visible(False)\n",
    "\n",
    "    fig.text(0.77,0.98,data1, fontweight=\"bold\", fontfamily='serif', fontsize=15, color='#244247')\n",
    "    fig.text(0.819,0.98,\"|\", fontweight=\"bold\", fontfamily='serif', fontsize=15, color='black')\n",
    "    fig.text(0.827,0.98,data2, fontweight=\"bold\", fontfamily='serif', fontsize=15, color='#0e7687')\n",
    "    plt.show()\n",
    "    "
   ]
  },
  {
   "cell_type": "markdown",
   "id": "217b141a",
   "metadata": {},
   "source": [
    "##### bagaimana distribusi jenis pembayaran yang digunakan customer berdasarkan gender ?\n"
   ]
  },
  {
   "cell_type": "code",
   "execution_count": 243,
   "id": "9c15f8e1",
   "metadata": {},
   "outputs": [
    {
     "name": "stderr",
     "output_type": "stream",
     "text": [
      "/var/folders/gg/b7yxvccn3v9c6z2xy6jpjydm0000gp/T/ipykernel_728/2900598092.py:17: UserWarning:\n",
      "\n",
      "FixedFormatter should only be used together with FixedLocator\n",
      "\n"
     ]
    },
    {
     "data": {
      "image/png": "[encoded data removed]",
      "text/plain": [
       "<Figure size 864x432 with 1 Axes>"
      ]
     },
     "metadata": {
      "needs_background": "light"
     },
     "output_type": "display_data"
    }
   ],
   "source": [
    "percentage_distribution('Payment','Gender','Male','Female')"
   ]
  },
  {
   "cell_type": "markdown",
   "id": "88ee8713",
   "metadata": {},
   "source": [
    "##### bagaimana distribusi kategori yang dibeli oleh customer berdasarkan gender ?"
   ]
  },
  {
   "cell_type": "code",
   "execution_count": 130,
   "id": "324461c0",
   "metadata": {},
   "outputs": [
    {
     "name": "stderr",
     "output_type": "stream",
     "text": [
      "/var/folders/gg/b7yxvccn3v9c6z2xy6jpjydm0000gp/T/ipykernel_728/3899454520.py:18: UserWarning:\n",
      "\n",
      "FixedFormatter should only be used together with FixedLocator\n",
      "\n"
     ]
    },
    {
     "data": {
      "image/png": "[encoded data removed]",
      "text/plain": [
       "<Figure size 864x432 with 1 Axes>"
      ]
     },
     "metadata": {
      "needs_background": "light"
     },
     "output_type": "display_data"
    }
   ],
   "source": [
    "percentage_distribution('Product Category','Gender','Male','Female')"
   ]
  },
  {
   "cell_type": "markdown",
   "id": "59be7c07",
   "metadata": {},
   "source": [
    "## Function to generate Histogram"
   ]
  },
  {
   "cell_type": "code",
   "execution_count": 261,
   "id": "42324a4a",
   "metadata": {},
   "outputs": [],
   "source": [
    "# Order for plotting categorical vars\n",
    "def bar_plot(value):\n",
    "    if value == 'Hour Range':\n",
    "        ab_order = ['9 ~ 11', '11 ~ 13', '13 ~ 15','15 ~ 17', '17 ~ 19', '19 ~ 21']\n",
    "        color_map = ['#d4dddd' for _ in range(9)]\n",
    "        color_map[4] = '#244747' \n",
    "    if value == 'Rating Range':\n",
    "        ab_order = ['3 ~ 5','5 ~ 7', '7 ~ 9', '9 ~ 10']\n",
    "        color_map = ['#d4dddd' for _ in range(9)]\n",
    "        color_map[2] = '#244747' \n",
    "    data = df[value].value_counts()[ab_order]\n",
    "\n",
    "    fig, ax = plt.subplots(1,1, figsize=(9, 6))\n",
    "    ax.bar(data.index, data, width=0.5, \n",
    "           edgecolor='darkgray',\n",
    "           linewidth=0.6,color=color_map)\n",
    "\n",
    "    #annotations\n",
    "    for i in data.index:\n",
    "        ax.annotate(f\"{data[i]}\", \n",
    "                       xy=(i, data[i] + 3), #i like to change this to roughly 5% of the highest cat\n",
    "                       va = 'center', ha='center',fontweight='light', fontfamily='serif')\n",
    "\n",
    "    for s in ['top', 'left', 'right']:\n",
    "        ax.spines[s].set_visible(False)\n",
    "\n",
    "    ax.set_xticklabels(data.index, fontfamily='serif', rotation=0)\n",
    "\n",
    "    # Title and sub-title\n",
    "\n",
    "    fig.text(0.09, 1, 'Distribution by Time Buying', fontsize=20, fontweight='bold', fontfamily='serif')\n",
    "    fig.text(0.09, 0.95, 'The two most numerous age bands have been highlighted.', fontsize=12, fontweight='light', fontfamily='serif')\n",
    "\n",
    "    fig.text(1.185, 1.01, 'Insight', fontsize=20, fontweight='bold', fontfamily='serif')\n",
    "\n",
    "    fig.text(1.185, 0.715, '''\n",
    "    The two most frequent age bands are 20-30 \n",
    "    and 30-40. In the early stages of our \n",
    "    exploratory analysis, we can already start\n",
    "    to think about who our most important customers\n",
    "    are and, importantly, how we might tailor our\n",
    "    marketing activities or promotional offers based\n",
    "    on customer segments.\n",
    "    '''\n",
    "             , fontsize=12, fontweight='light', fontfamily='serif')\n",
    "\n",
    "    ax.grid(axis='y', linestyle='-', alpha=0.4)   \n",
    "\n",
    "    if value == 'Hour Range':\n",
    "        grid_y_ticks = np.arange(0, 250, 20) # y ticks, min, max, then step\n",
    "    else:\n",
    "        grid_y_ticks = np.arange(0, 400, 20)\n",
    "    ax.set_yticks(grid_y_ticks)\n",
    "    ax.set_axisbelow(True)\n",
    "\n",
    "    # Axis labels\n",
    "\n",
    "    plt.xlabel(\"Time banding\", fontsize=12, fontweight='light', fontfamily='serif',loc='left',y=-1.5)\n",
    "\n",
    "\n",
    "    # thicken the bottom line if you want to\n",
    "    plt.axhline(y = 0, color = 'black', linewidth = 1.3, alpha = .7)\n",
    "\n",
    "    import matplotlib.lines as lines\n",
    "    l1 = lines.Line2D([1.05, 1.05], [0, 1.05], transform=fig.transFigure, figure=fig,color='black',lw=0.2)\n",
    "    fig.lines.extend([l1])\n",
    "\n",
    "    plt.show()"
   ]
  },
  {
   "cell_type": "code",
   "execution_count": 262,
   "id": "5153fa53",
   "metadata": {},
   "outputs": [
    {
     "name": "stderr",
     "output_type": "stream",
     "text": [
      "/var/folders/gg/b7yxvccn3v9c6z2xy6jpjydm0000gp/T/ipykernel_728/483360065.py:27: UserWarning:\n",
      "\n",
      "FixedFormatter should only be used together with FixedLocator\n",
      "\n"
     ]
    },
    {
     "data": {
      "image/png": "[encoded data removed]",
      "text/plain": [
       "<Figure size 648x432 with 1 Axes>"
      ]
     },
     "metadata": {
      "needs_background": "light"
     },
     "output_type": "display_data"
    }
   ],
   "source": [
    "bar_plot('Rating Range')"
   ]
  },
  {
   "cell_type": "code",
   "execution_count": null,
   "id": "1bf96b92",
   "metadata": {},
   "outputs": [],
   "source": []
  }
 ],
 "metadata": {
  "kernelspec": {
   "display_name": "Python 3 (ipykernel)",
   "language": "python",
   "name": "python3"
  },
  "language_info": {
   "codemirror_mode": {
    "name": "ipython",
    "version": 3
   },
   "file_extension": ".py",
   "mimetype": "text/x-python",
   "name": "python",
   "nbconvert_exporter": "python",
   "pygments_lexer": "ipython3",
   "version": "3.9.5"
  }
 },
 "nbformat": 4,
 "nbformat_minor": 5
}
